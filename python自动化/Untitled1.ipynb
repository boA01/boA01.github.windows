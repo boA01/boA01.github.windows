{
 "cells": [
  {
   "cell_type": "code",
   "execution_count": 4,
   "metadata": {},
   "outputs": [],
   "source": [
    "import numpy as np\n",
    "import pandas as pd"
   ]
  },
  {
   "cell_type": "code",
   "execution_count": 8,
   "metadata": {},
   "outputs": [
    {
     "name": "stdout",
     "output_type": "stream",
     "text": [
      "(5, 0)\n"
     ]
    }
   ],
   "source": [
    "# 1.创建一个数组，数组的shape为(5,0)，元素都是0。\n",
    "\n",
    "np1 = np.array(list([] for i in range(5)))\n",
    "print(np1.shape)"
   ]
  },
  {
   "cell_type": "code",
   "execution_count": 21,
   "metadata": {},
   "outputs": [
    {
     "name": "stdout",
     "output_type": "stream",
     "text": [
      "[[1 0 1 0 1 0 1 0]\n",
      " [0 1 0 1 0 1 0 1]\n",
      " [1 0 1 0 1 0 1 0]\n",
      " [0 1 0 1 0 1 0 1]\n",
      " [1 0 1 0 1 0 1 0]\n",
      " [0 1 0 1 0 1 0 1]\n",
      " [1 0 1 0 1 0 1 0]\n",
      " [0 1 0 1 0 1 0 1]]\n"
     ]
    }
   ],
   "source": [
    "# 2.创建一个表示国际象棋棋盘的8*8数组，其中，棋盘白格用0填充，棋盘黑格用1填充。\n",
    "\n",
    "np2 = np.array(list([0,1]*4 if i&1 else [1,0]*4 for i in range(8)))\n",
    "print(np2)"
   ]
  },
  {
   "cell_type": "code",
   "execution_count": 14,
   "metadata": {},
   "outputs": [
    {
     "data": {
      "text/plain": [
       "array([['学号', '姓名', '性别', '语文', '数学', '英语'],\n",
       "       ['1001', '陈晨', '男', '85', '96', '86'],\n",
       "       ['1002', '欧阳', '男', '75', '100', '87'],\n",
       "       ['1003', '王楠', '女', '95', '95', '95']], dtype='<U4')"
      ]
     },
     "execution_count": 14,
     "metadata": {},
     "output_type": "execute_result"
    }
   ],
   "source": [
    "# 信息表，要求将两张表合二为一，以建立学生完整的学生成绩档案\n",
    "\n",
    "table1 = np.array([\n",
    "    [\"学号\",\"姓名\",\"性别\"],\n",
    "    [\"1001\",\"陈晨\",\"男\"],\n",
    "    [\"1002\",\"欧阳\",\"男\"],\n",
    "    [\"1003\",\"王楠\",\"女\"]\n",
    "])\n",
    "\n",
    "table2 = np.array([\n",
    "    \"学号,语文,数学,英语\".split(\",\"),\n",
    "    \"1001,85,96,86\".split(\",\"),\n",
    "    \"1002,75,100,87\".split(\",\"),\n",
    "    \"1003,95,95,95\".split(\",\")\n",
    "])\n",
    "\n",
    "np.hstack((table1, np.hsplit(table2, np.array([1]))[1]))"
   ]
  },
  {
   "cell_type": "code",
   "execution_count": 126,
   "metadata": {},
   "outputs": [
    {
     "name": "stdout",
     "output_type": "stream",
     "text": [
      "树苗坐标： [['(0,0)' '(5,0)' '(10,0)' '(15,0)' '(20,0)' '(25,0)' '(30,0)' '(35,0)'\n",
      "  '(40,0)' '(45,0)' '(50,0)' '(55,0)' '(60,0)' '(65,0)' '(70,0)' '(75,0)'\n",
      "  '(80,0)' '(85,0)' '(90,0)' '(95,0)' '(100,0)']\n",
      " ['(0,5)' '(5,5)' '(10,5)' '(15,5)' '(20,5)' '(25,5)' '(30,5)' '(35,5)'\n",
      "  '(40,5)' '(45,5)' '(50,5)' '(55,5)' '(60,5)' '(65,5)' '(70,5)' '(75,5)'\n",
      "  '(80,5)' '(85,5)' '(90,5)' '(95,5)' '(100,5)']]\n"
     ]
    }
   ],
   "source": [
    "# （1）用数组表示种植树苗的间隔点米数，以方便种树\n",
    "\n",
    "# tree1 = np.array(list( j for j in range(0,100+1,5)))\n",
    "\n",
    "arr = []\n",
    "for i in range(0,5+1,5):\n",
    "    l = []\n",
    "    for j in range(0,100+1,5):\n",
    "        l.append(\"(\"+str(j)+\",\"+str(i)+\")\")\n",
    "    arr.append(l)\n",
    "tree1 = np.array(arr)\n",
    "\n",
    "print(\"树苗坐标：\",tree1)"
   ]
  },
  {
   "cell_type": "code",
   "execution_count": 103,
   "metadata": {},
   "outputs": [
    {
     "data": {
      "text/plain": [
       "array([[10,  5, 10,  5, 10,  5, 10,  5, 10,  5, 10,  5, 10,  5, 10,  5,\n",
       "        10,  5, 10,  5, 10],\n",
       "       [ 5, 10,  5, 10,  5, 10,  5, 10,  5, 10,  5, 10,  5, 10,  5, 10,\n",
       "         5, 10,  5, 10,  5]])"
      ]
     },
     "execution_count": 103,
     "metadata": {},
     "output_type": "execute_result"
    }
   ],
   "source": [
    "# （2）在（1）基础上记录树苗的单价，并且一棵是低价，一棵是高价，间隔依次种植\n",
    "\n",
    "tree2 = np.array(list( 5 if j%10==0 else 10 for j in range(0,100+1,5)))\n",
    "\n",
    "# tree2 = np.array(list([10]+[5,10]*10 if i&1==0 else [5]+[10,5]*10 for i in range(2)))\n",
    "tree2"
   ]
  },
  {
   "cell_type": "code",
   "execution_count": 104,
   "metadata": {},
   "outputs": [
    {
     "data": {
      "text/plain": [
       "array([[20, 10, 20, 10, 20, 10, 20, 10, 20, 10, 20, 10, 20, 10, 20, 10,\n",
       "        20, 10, 20, 10, 20],\n",
       "       [10, 20, 10, 20, 10, 20, 10, 20, 10, 20, 10, 20, 10, 20, 10, 20,\n",
       "        10, 20, 10, 20, 10]])"
      ]
     },
     "execution_count": 104,
     "metadata": {},
     "output_type": "execute_result"
    }
   ],
   "source": [
    "# （3）当天树苗全部涨价2倍，求每棵树苗的当前价格\n",
    "\n",
    "tree3 = tree2*2\n",
    "tree3"
   ]
  },
  {
   "cell_type": "code",
   "execution_count": 105,
   "metadata": {},
   "outputs": [
    {
     "data": {
      "text/plain": [
       "array([[1, 0, 1, 0, 1, 0, 1, 0, 1, 0, 1, 0, 1, 0, 1, 0, 1, 0, 1, 0, 1],\n",
       "       [0, 1, 0, 1, 0, 1, 0, 1, 0, 1, 0, 1, 0, 1, 0, 1, 0, 1, 0, 1, 0]])"
      ]
     },
     "execution_count": 105,
     "metadata": {},
     "output_type": "execute_result"
    }
   ],
   "source": [
    "# （4）对高单价树苗价格做1处理，对低单价树苗做0处理\n",
    "\n",
    "tree4 = np.array(list([1]+[0,1]*10 if i&1==0 else [0]+[1,0]*10 for i in range(2)))\n",
    "tree4"
   ]
  },
  {
   "cell_type": "code",
   "execution_count": null,
   "metadata": {},
   "outputs": [],
   "source": [
    "# （5）实现树苗价格和间隔米数的对齐。\n",
    "\n"
   ]
  },
  {
   "cell_type": "code",
   "execution_count": 156,
   "metadata": {},
   "outputs": [
    {
     "name": "stdout",
     "output_type": "stream",
     "text": [
      "5.000000000000004\n"
     ]
    }
   ],
   "source": [
    "'''\n",
    "X1 -x2 -x3 = 2\n",
    "2x1-x2-3x3 = 1\n",
    "3x1-2x2-5x3 = 0\n",
    "'''\n",
    "\n",
    "arr = np.mat(\"1,-1,-1;2,-1,-3;3,-2,-5\")\n",
    "b = np.mat(\"2,1,0\").T\n",
    "r = np.array(np.linalg.solve(arr,b))\n",
    "\n",
    "print(f\"x1:{r[0][0]}, x2:{r[1]}, x3:{}\")"
   ]
  },
  {
   "cell_type": "code",
   "execution_count": 127,
   "metadata": {},
   "outputs": [
    {
     "name": "stderr",
     "output_type": "stream",
     "text": [
      "<ipython-input-127-7bdea3c195d6>:3: VisibleDeprecationWarning: Creating an ndarray from ragged nested sequences (which is a list-or-tuple of lists-or-tuples-or ndarrays with different lengths or shapes) is deprecated. If you meant to do this, you must specify 'dtype=object' when creating the ndarray\n",
      "  arr1 = np.array([[1, 20, 1.2, 20*1.2],\n"
     ]
    },
    {
     "data": {
      "text/plain": [
       "array([list([1, 20, 1.2, 24.0]), list([2, 18, 1, 2, 21.599999999999998]),\n",
       "       list([3, 36, 1.2666666666666666, 45.6]),\n",
       "       list([4, 26, 1.3, 33.800000000000004])], dtype=object)"
      ]
     },
     "execution_count": 127,
     "metadata": {},
     "output_type": "execute_result"
    }
   ],
   "source": [
    "# 利用数组形式，求每批次的批发价、金额，并求总批发额，批发利润\n",
    "\n",
    "arr1 = np.array([[1, 20, 1.2, 20*1.2],\n",
    "                 [2, 18, 1,2, 18*1.2],\n",
    "                 [3, 36, (1.2*12+1.3*24)/36, 1.2*12+1.3*24],\n",
    "                 [4, 26, 1.3, 26*1.3]]\n",
    "               )\n",
    "arr1"
   ]
  },
  {
   "cell_type": "code",
   "execution_count": 123,
   "metadata": {},
   "outputs": [
    {
     "name": "stdout",
     "output_type": "stream",
     "text": [
      "每列和:[0 2 2 4 2 0],每行和:[0 2 2 4 1 1]\n"
     ]
    }
   ],
   "source": [
    "arr2 = np.array([\n",
    "    [0,0,0,0,0,0],\n",
    "    [0,0,1,0,1,0],\n",
    "    [0,1,0,1,0,0],\n",
    "    [0,1,1,1,1,0],\n",
    "    [0,0,0,1,0,0],\n",
    "    [0,0,0,1,0,0]\n",
    "])\n",
    "\n",
    "arr2\n",
    "print(f\"每列和:{np.sum(arr2,axis=0)},每行和:{np.sum(arr2, axis=1)}\")"
   ]
  },
  {
   "cell_type": "code",
   "execution_count": 23,
   "metadata": {},
   "outputs": [
    {
     "data": {
      "text/html": [
       "<div>\n",
       "<style scoped>\n",
       "    .dataframe tbody tr th:only-of-type {\n",
       "        vertical-align: middle;\n",
       "    }\n",
       "\n",
       "    .dataframe tbody tr th {\n",
       "        vertical-align: top;\n",
       "    }\n",
       "\n",
       "    .dataframe thead th {\n",
       "        text-align: right;\n",
       "    }\n",
       "</style>\n",
       "<table border=\"1\" class=\"dataframe\">\n",
       "  <thead>\n",
       "    <tr style=\"text-align: right;\">\n",
       "      <th></th>\n",
       "      <th>A</th>\n",
       "      <th>B</th>\n",
       "      <th>C</th>\n",
       "      <th>D</th>\n",
       "    </tr>\n",
       "  </thead>\n",
       "  <tbody>\n",
       "    <tr>\n",
       "      <th>0</th>\n",
       "      <td>1</td>\n",
       "      <td>5</td>\n",
       "      <td>8</td>\n",
       "      <td>8</td>\n",
       "    </tr>\n",
       "    <tr>\n",
       "      <th>1</th>\n",
       "      <td>2</td>\n",
       "      <td>2</td>\n",
       "      <td>4</td>\n",
       "      <td>9</td>\n",
       "    </tr>\n",
       "    <tr>\n",
       "      <th>2</th>\n",
       "      <td>7</td>\n",
       "      <td>4</td>\n",
       "      <td>2</td>\n",
       "      <td>3</td>\n",
       "    </tr>\n",
       "    <tr>\n",
       "      <th>3</th>\n",
       "      <td>3</td>\n",
       "      <td>0</td>\n",
       "      <td>5</td>\n",
       "      <td>2</td>\n",
       "    </tr>\n",
       "  </tbody>\n",
       "</table>\n",
       "</div>"
      ],
      "text/plain": [
       "   A  B  C  D\n",
       "0  1  5  8  8\n",
       "1  2  2  4  9\n",
       "2  7  4  2  3\n",
       "3  3  0  5  2"
      ]
     },
     "execution_count": 23,
     "metadata": {},
     "output_type": "execute_result"
    }
   ],
   "source": [
    "# （1）使用DataFrame创建该数据。\n",
    "\n",
    "df1 = pd.DataFrame([[1,5,8,8],\n",
    "                      [2,2,4,9],\n",
    "                      [7,4,2,3],\n",
    "                      [3,0,5,2]],columns=['A','B','C','D'])\n",
    "df1"
   ]
  },
  {
   "cell_type": "code",
   "execution_count": 57,
   "metadata": {},
   "outputs": [
    {
     "data": {
      "text/html": [
       "<div>\n",
       "<style scoped>\n",
       "    .dataframe tbody tr th:only-of-type {\n",
       "        vertical-align: middle;\n",
       "    }\n",
       "\n",
       "    .dataframe tbody tr th {\n",
       "        vertical-align: top;\n",
       "    }\n",
       "\n",
       "    .dataframe thead th {\n",
       "        text-align: right;\n",
       "    }\n",
       "</style>\n",
       "<table border=\"1\" class=\"dataframe\">\n",
       "  <thead>\n",
       "    <tr style=\"text-align: right;\">\n",
       "      <th></th>\n",
       "      <th>A</th>\n",
       "      <th>B</th>\n",
       "      <th>C</th>\n",
       "      <th>D</th>\n",
       "    </tr>\n",
       "  </thead>\n",
       "  <tbody>\n",
       "    <tr>\n",
       "      <th>0</th>\n",
       "      <td>1</td>\n",
       "      <td>5</td>\n",
       "      <td>8</td>\n",
       "      <td>8</td>\n",
       "    </tr>\n",
       "    <tr>\n",
       "      <th>2</th>\n",
       "      <td>7</td>\n",
       "      <td>4</td>\n",
       "      <td>2</td>\n",
       "      <td>3</td>\n",
       "    </tr>\n",
       "    <tr>\n",
       "      <th>1</th>\n",
       "      <td>2</td>\n",
       "      <td>2</td>\n",
       "      <td>4</td>\n",
       "      <td>9</td>\n",
       "    </tr>\n",
       "    <tr>\n",
       "      <th>3</th>\n",
       "      <td>3</td>\n",
       "      <td>0</td>\n",
       "      <td>5</td>\n",
       "      <td>2</td>\n",
       "    </tr>\n",
       "  </tbody>\n",
       "</table>\n",
       "</div>"
      ],
      "text/plain": [
       "   A  B  C  D\n",
       "0  1  5  8  8\n",
       "2  7  4  2  3\n",
       "1  2  2  4  9\n",
       "3  3  0  5  2"
      ]
     },
     "execution_count": 57,
     "metadata": {},
     "output_type": "execute_result"
    }
   ],
   "source": [
    "# 将图中的B列数据进行按降序排序\n",
    "\n",
    "df1.sort_values(by='B',ascending=False)"
   ]
  },
  {
   "cell_type": "code",
   "execution_count": null,
   "metadata": {},
   "outputs": [],
   "source": [
    "# （3）将排序后的数据写入到csv文件，并命名为write_data.csv。\n",
    "\n",
    "df1.to_csv(r'd:/write_data.csv',index=False)"
   ]
  },
  {
   "cell_type": "code",
   "execution_count": 59,
   "metadata": {},
   "outputs": [
    {
     "data": {
      "text/html": [
       "<div>\n",
       "<style scoped>\n",
       "    .dataframe tbody tr th:only-of-type {\n",
       "        vertical-align: middle;\n",
       "    }\n",
       "\n",
       "    .dataframe tbody tr th {\n",
       "        vertical-align: top;\n",
       "    }\n",
       "\n",
       "    .dataframe thead th {\n",
       "        text-align: right;\n",
       "    }\n",
       "</style>\n",
       "<table border=\"1\" class=\"dataframe\">\n",
       "  <thead>\n",
       "    <tr style=\"text-align: right;\">\n",
       "      <th></th>\n",
       "      <th>年级</th>\n",
       "      <th>姓名</th>\n",
       "      <th>年龄</th>\n",
       "      <th>性别</th>\n",
       "      <th>身高</th>\n",
       "      <th>体重</th>\n",
       "    </tr>\n",
       "  </thead>\n",
       "  <tbody>\n",
       "    <tr>\n",
       "      <th>0</th>\n",
       "      <td>大一</td>\n",
       "      <td>李红卓</td>\n",
       "      <td>18</td>\n",
       "      <td>男</td>\n",
       "      <td>175</td>\n",
       "      <td>65</td>\n",
       "    </tr>\n",
       "    <tr>\n",
       "      <th>1</th>\n",
       "      <td>大二</td>\n",
       "      <td>李思真</td>\n",
       "      <td>19</td>\n",
       "      <td>女</td>\n",
       "      <td>165</td>\n",
       "      <td>60</td>\n",
       "    </tr>\n",
       "    <tr>\n",
       "      <th>2</th>\n",
       "      <td>大三</td>\n",
       "      <td>张振海</td>\n",
       "      <td>20</td>\n",
       "      <td>男</td>\n",
       "      <td>178</td>\n",
       "      <td>70</td>\n",
       "    </tr>\n",
       "    <tr>\n",
       "      <th>3</th>\n",
       "      <td>大四</td>\n",
       "      <td>赵鸿飞</td>\n",
       "      <td>21</td>\n",
       "      <td>女</td>\n",
       "      <td>175</td>\n",
       "      <td>75</td>\n",
       "    </tr>\n",
       "    <tr>\n",
       "      <th>4</th>\n",
       "      <td>大二</td>\n",
       "      <td>白蓉</td>\n",
       "      <td>19</td>\n",
       "      <td>男</td>\n",
       "      <td>160</td>\n",
       "      <td>55</td>\n",
       "    </tr>\n",
       "    <tr>\n",
       "      <th>5</th>\n",
       "      <td>大三</td>\n",
       "      <td>马腾飞</td>\n",
       "      <td>20</td>\n",
       "      <td>女</td>\n",
       "      <td>180</td>\n",
       "      <td>70</td>\n",
       "    </tr>\n",
       "    <tr>\n",
       "      <th>6</th>\n",
       "      <td>大一</td>\n",
       "      <td>张小凡</td>\n",
       "      <td>18</td>\n",
       "      <td>男</td>\n",
       "      <td>167</td>\n",
       "      <td>52</td>\n",
       "    </tr>\n",
       "    <tr>\n",
       "      <th>7</th>\n",
       "      <td>大三</td>\n",
       "      <td>金紫萱</td>\n",
       "      <td>20</td>\n",
       "      <td>女</td>\n",
       "      <td>170</td>\n",
       "      <td>53</td>\n",
       "    </tr>\n",
       "    <tr>\n",
       "      <th>8</th>\n",
       "      <td>大四</td>\n",
       "      <td>金烨</td>\n",
       "      <td>21</td>\n",
       "      <td>男</td>\n",
       "      <td>185</td>\n",
       "      <td>73</td>\n",
       "    </tr>\n",
       "  </tbody>\n",
       "</table>\n",
       "</div>"
      ],
      "text/plain": [
       "   年级   姓名  年龄 性别   身高  体重\n",
       "0  大一  李红卓  18  男  175  65\n",
       "1  大二  李思真  19  女  165  60\n",
       "2  大三  张振海  20  男  178  70\n",
       "3  大四  赵鸿飞  21  女  175  75\n",
       "4  大二   白蓉  19  男  160  55\n",
       "5  大三  马腾飞  20  女  180  70\n",
       "6  大一  张小凡  18  男  167  52\n",
       "7  大三  金紫萱  20  女  170  53\n",
       "8  大四   金烨  21  男  185  73"
      ]
     },
     "execution_count": 59,
     "metadata": {},
     "output_type": "execute_result"
    }
   ],
   "source": [
    "# 现有如下图所示的学生信息，请根据图中的信息完成以下操作：\n",
    "\n",
    "df2=pd.DataFrame({'年级':['大一','大二','大三','大四','大二','大三','大一','大三','大四'],\n",
    "                  '姓名':['李红卓','李思真','张振海','赵鸿飞','白蓉','马腾飞','张小凡','金紫萱','金烨'],\n",
    "                  '年龄':[18,19,20,21,19,20,18,20,21],\n",
    "                  '性别':['男','女','男','女','男','女','男','女','男'],\n",
    "                  '身高':[175,165,178,175,160,180,167,170,185],\n",
    "                  '体重':[65,60,70,75,55,70,52,53,73]})\n",
    "df2"
   ]
  },
  {
   "cell_type": "code",
   "execution_count": 61,
   "metadata": {},
   "outputs": [
    {
     "data": {
      "text/html": [
       "<div>\n",
       "<style scoped>\n",
       "    .dataframe tbody tr th:only-of-type {\n",
       "        vertical-align: middle;\n",
       "    }\n",
       "\n",
       "    .dataframe tbody tr th {\n",
       "        vertical-align: top;\n",
       "    }\n",
       "\n",
       "    .dataframe thead th {\n",
       "        text-align: right;\n",
       "    }\n",
       "</style>\n",
       "<table border=\"1\" class=\"dataframe\">\n",
       "  <thead>\n",
       "    <tr style=\"text-align: right;\">\n",
       "      <th></th>\n",
       "      <th>年级</th>\n",
       "      <th>姓名</th>\n",
       "      <th>年龄</th>\n",
       "      <th>性别</th>\n",
       "      <th>身高</th>\n",
       "      <th>体重</th>\n",
       "    </tr>\n",
       "  </thead>\n",
       "  <tbody>\n",
       "    <tr>\n",
       "      <th>0</th>\n",
       "      <td>大一</td>\n",
       "      <td>李红卓</td>\n",
       "      <td>18</td>\n",
       "      <td>男</td>\n",
       "      <td>175</td>\n",
       "      <td>65</td>\n",
       "    </tr>\n",
       "    <tr>\n",
       "      <th>6</th>\n",
       "      <td>大一</td>\n",
       "      <td>张小凡</td>\n",
       "      <td>18</td>\n",
       "      <td>男</td>\n",
       "      <td>167</td>\n",
       "      <td>52</td>\n",
       "    </tr>\n",
       "  </tbody>\n",
       "</table>\n",
       "</div>"
      ],
      "text/plain": [
       "   年级   姓名  年龄 性别   身高  体重\n",
       "0  大一  李红卓  18  男  175  65\n",
       "6  大一  张小凡  18  男  167  52"
      ]
     },
     "execution_count": 61,
     "metadata": {},
     "output_type": "execute_result"
    }
   ],
   "source": [
    "# （1）根据年级信息为分组键，对学生信息进行分组，并输出大一学生信息。\n",
    "\n",
    "df2_1=df2.groupby('年级')\n",
    "dict([x for x in df2_1])['大一']"
   ]
  },
  {
   "cell_type": "code",
   "execution_count": 63,
   "metadata": {},
   "outputs": [
    {
     "data": {
      "text/html": [
       "<div>\n",
       "<style scoped>\n",
       "    .dataframe tbody tr th:only-of-type {\n",
       "        vertical-align: middle;\n",
       "    }\n",
       "\n",
       "    .dataframe tbody tr th {\n",
       "        vertical-align: top;\n",
       "    }\n",
       "\n",
       "    .dataframe thead th {\n",
       "        text-align: right;\n",
       "    }\n",
       "</style>\n",
       "<table border=\"1\" class=\"dataframe\">\n",
       "  <thead>\n",
       "    <tr style=\"text-align: right;\">\n",
       "      <th></th>\n",
       "      <th>姓名</th>\n",
       "      <th>年龄</th>\n",
       "      <th>性别</th>\n",
       "      <th>身高</th>\n",
       "      <th>体重</th>\n",
       "    </tr>\n",
       "    <tr>\n",
       "      <th>年级</th>\n",
       "      <th></th>\n",
       "      <th></th>\n",
       "      <th></th>\n",
       "      <th></th>\n",
       "      <th></th>\n",
       "    </tr>\n",
       "  </thead>\n",
       "  <tbody>\n",
       "    <tr>\n",
       "      <th>大一</th>\n",
       "      <td>李红卓</td>\n",
       "      <td>18</td>\n",
       "      <td>男</td>\n",
       "      <td>175</td>\n",
       "      <td>65</td>\n",
       "    </tr>\n",
       "    <tr>\n",
       "      <th>大三</th>\n",
       "      <td>马腾飞</td>\n",
       "      <td>20</td>\n",
       "      <td>男</td>\n",
       "      <td>180</td>\n",
       "      <td>70</td>\n",
       "    </tr>\n",
       "    <tr>\n",
       "      <th>大二</th>\n",
       "      <td>白蓉</td>\n",
       "      <td>19</td>\n",
       "      <td>男</td>\n",
       "      <td>165</td>\n",
       "      <td>60</td>\n",
       "    </tr>\n",
       "    <tr>\n",
       "      <th>大四</th>\n",
       "      <td>金烨</td>\n",
       "      <td>21</td>\n",
       "      <td>男</td>\n",
       "      <td>185</td>\n",
       "      <td>75</td>\n",
       "    </tr>\n",
       "  </tbody>\n",
       "</table>\n",
       "</div>"
      ],
      "text/plain": [
       "     姓名  年龄 性别   身高  体重\n",
       "年级                     \n",
       "大一  李红卓  18  男  175  65\n",
       "大三  马腾飞  20  男  180  70\n",
       "大二   白蓉  19  男  165  60\n",
       "大四   金烨  21  男  185  75"
      ]
     },
     "execution_count": 63,
     "metadata": {},
     "output_type": "execute_result"
    }
   ],
   "source": [
    "# （2）分别计算出四个年级中身高最高的同学。\n",
    " \n",
    "df2_1.agg(max)"
   ]
  },
  {
   "cell_type": "code",
   "execution_count": 71,
   "metadata": {},
   "outputs": [
    {
     "data": {
      "text/html": [
       "<div>\n",
       "<style scoped>\n",
       "    .dataframe tbody tr th:only-of-type {\n",
       "        vertical-align: middle;\n",
       "    }\n",
       "\n",
       "    .dataframe tbody tr th {\n",
       "        vertical-align: top;\n",
       "    }\n",
       "\n",
       "    .dataframe thead th {\n",
       "        text-align: right;\n",
       "    }\n",
       "</style>\n",
       "<table border=\"1\" class=\"dataframe\">\n",
       "  <thead>\n",
       "    <tr style=\"text-align: right;\">\n",
       "      <th></th>\n",
       "      <th>体重</th>\n",
       "    </tr>\n",
       "    <tr>\n",
       "      <th>年级</th>\n",
       "      <th></th>\n",
       "    </tr>\n",
       "  </thead>\n",
       "  <tbody>\n",
       "    <tr>\n",
       "      <th>大一</th>\n",
       "      <td>58.500000</td>\n",
       "    </tr>\n",
       "    <tr>\n",
       "      <th>大三</th>\n",
       "      <td>64.333333</td>\n",
       "    </tr>\n",
       "    <tr>\n",
       "      <th>大二</th>\n",
       "      <td>57.500000</td>\n",
       "    </tr>\n",
       "    <tr>\n",
       "      <th>大四</th>\n",
       "      <td>74.000000</td>\n",
       "    </tr>\n",
       "  </tbody>\n",
       "</table>\n",
       "</div>"
      ],
      "text/plain": [
       "           体重\n",
       "年级           \n",
       "大一  58.500000\n",
       "大三  64.333333\n",
       "大二  57.500000\n",
       "大四  74.000000"
      ]
     },
     "execution_count": 71,
     "metadata": {},
     "output_type": "execute_result"
    }
   ],
   "source": [
    "# （3）计算大一学生与大三学生的平均体重。\n",
    "\n",
    "df2_1.agg({'体重':'mean'})"
   ]
  },
  {
   "cell_type": "code",
   "execution_count": 76,
   "metadata": {},
   "outputs": [
    {
     "data": {
      "text/html": [
       "<div>\n",
       "<style scoped>\n",
       "    .dataframe tbody tr th:only-of-type {\n",
       "        vertical-align: middle;\n",
       "    }\n",
       "\n",
       "    .dataframe tbody tr th {\n",
       "        vertical-align: top;\n",
       "    }\n",
       "\n",
       "    .dataframe thead th {\n",
       "        text-align: right;\n",
       "    }\n",
       "</style>\n",
       "<table border=\"1\" class=\"dataframe\">\n",
       "  <thead>\n",
       "    <tr style=\"text-align: right;\">\n",
       "      <th></th>\n",
       "      <th>证券代码</th>\n",
       "      <th>证券简称</th>\n",
       "      <th>最新价</th>\n",
       "      <th>涨跌幅%</th>\n",
       "    </tr>\n",
       "  </thead>\n",
       "  <tbody>\n",
       "    <tr>\n",
       "      <th>0</th>\n",
       "      <td>000609</td>\n",
       "      <td>中迪投资</td>\n",
       "      <td>4.80</td>\n",
       "      <td>10.09</td>\n",
       "    </tr>\n",
       "    <tr>\n",
       "      <th>1</th>\n",
       "      <td>000993</td>\n",
       "      <td>闽东电力</td>\n",
       "      <td>4.80</td>\n",
       "      <td>10.09</td>\n",
       "    </tr>\n",
       "    <tr>\n",
       "      <th>2</th>\n",
       "      <td>002615</td>\n",
       "      <td>哈尔斯</td>\n",
       "      <td>5.02</td>\n",
       "      <td>10.09</td>\n",
       "    </tr>\n",
       "    <tr>\n",
       "      <th>3</th>\n",
       "      <td>000795</td>\n",
       "      <td>英洛华</td>\n",
       "      <td>3.93</td>\n",
       "      <td>10.08</td>\n",
       "    </tr>\n",
       "    <tr>\n",
       "      <th>4</th>\n",
       "      <td>002766</td>\n",
       "      <td>索林股份</td>\n",
       "      <td>6.78</td>\n",
       "      <td>10.06</td>\n",
       "    </tr>\n",
       "    <tr>\n",
       "      <th>5</th>\n",
       "      <td>000971</td>\n",
       "      <td>高升控投</td>\n",
       "      <td>3.72</td>\n",
       "      <td>10.06</td>\n",
       "    </tr>\n",
       "    <tr>\n",
       "      <th>6</th>\n",
       "      <td>000633</td>\n",
       "      <td>合金投资</td>\n",
       "      <td>4.60</td>\n",
       "      <td>10.06</td>\n",
       "    </tr>\n",
       "    <tr>\n",
       "      <th>7</th>\n",
       "      <td>300173</td>\n",
       "      <td>智慧松德</td>\n",
       "      <td>4.60</td>\n",
       "      <td>10.05</td>\n",
       "    </tr>\n",
       "    <tr>\n",
       "      <th>8</th>\n",
       "      <td>300279</td>\n",
       "      <td>和晶科技</td>\n",
       "      <td>5.81</td>\n",
       "      <td>10.05</td>\n",
       "    </tr>\n",
       "    <tr>\n",
       "      <th>9</th>\n",
       "      <td>000831</td>\n",
       "      <td>五矿稀土</td>\n",
       "      <td>9.87</td>\n",
       "      <td>10.04</td>\n",
       "    </tr>\n",
       "  </tbody>\n",
       "</table>\n",
       "</div>"
      ],
      "text/plain": [
       "     证券代码  证券简称   最新价   涨跌幅%\n",
       "0  000609  中迪投资  4.80  10.09\n",
       "1  000993  闽东电力  4.80  10.09\n",
       "2  002615   哈尔斯  5.02  10.09\n",
       "3  000795   英洛华  3.93  10.08\n",
       "4  002766  索林股份  6.78  10.06\n",
       "5  000971  高升控投  3.72  10.06\n",
       "6  000633  合金投资  4.60  10.06\n",
       "7  300173  智慧松德  4.60  10.05\n",
       "8  300279  和晶科技  5.81  10.05\n",
       "9  000831  五矿稀土  9.87  10.04"
      ]
     },
     "execution_count": 76,
     "metadata": {},
     "output_type": "execute_result"
    }
   ],
   "source": [
    "# （1）使用DataFrame创建该股票数据。\n",
    "\n",
    "df6 = pd.DataFrame(data={\n",
    "    \"证券代码\":\"000609,000993,002615,000795,002766,000971,000633,300173,300279,000831\".split(\",\"),\n",
    "    \"证券简称\":\"中迪投资,闽东电力,哈尔斯,英洛华,索林股份,高升控投,合金投资,智慧松德,和晶科技,五矿稀土\".split(\",\"),\n",
    "    \"最新价\":\"4.80 4.80 5.02 3.93 6.78 3.72 4.60 4.60 5.81 9.87\".split(),\n",
    "    \"涨跌幅%\":\"10.09 10.09 10.09 10.08 10.06 10.06 10.06 10.05 10.05 10.04\".split()\n",
    "})\n",
    "\n",
    "df6"
   ]
  },
  {
   "cell_type": "code",
   "execution_count": 118,
   "metadata": {},
   "outputs": [
    {
     "data": {
      "image/png": "[encoded data removed]",
      "text/plain": [
       "<Figure size 432x288 with 1 Axes>"
      ]
     },
     "metadata": {
      "needs_background": "light"
     },
     "output_type": "display_data"
    }
   ],
   "source": [
    "'''\n",
    "以证券简称为x轴，最新价为y轴使用条形图展示，\n",
    "将生成的条形图图以shares_bar.png为文件名保存在桌面上。\n",
    "'''\n",
    "import matplotlib.pyplot as plt\n",
    "import matplotlib\n",
    "\n",
    "matplotlib.rc(\"font\",family=\"YouYuan\")\n",
    "\n",
    "plt.bar(x=df6[\"证券简称\"],height=df6[\"最新价\"].astype(float))\n",
    "plt.xticks(df6[\"证券简称\"],rotation=45)\n",
    "plt.ylim(ymax = 11, ymin=0)\n",
    "plt.xlabel(\"证券简称\")\n",
    "plt.ylabel(\"最新价\")\n",
    "# plt.savefig(r\"shares_bar.png\")\n",
    "plt.show()"
   ]
  },
  {
   "cell_type": "code",
   "execution_count": 3,
   "metadata": {},
   "outputs": [
    {
     "data": {
      "text/plain": [
       "dict_values(['java', 1, 'very good!!!'])"
      ]
     },
     "execution_count": 3,
     "metadata": {},
     "output_type": "execute_result"
    }
   ],
   "source": [
    "d = {'name': 'java', 'age': 1, 'title': 'very good!!!'}\n",
    "d.values()"
   ]
  },
  {
   "cell_type": "code",
   "execution_count": 8,
   "metadata": {},
   "outputs": [
    {
     "data": {
      "text/plain": [
       "['A', 'B', 'C', 'D']"
      ]
     },
     "execution_count": 8,
     "metadata": {},
     "output_type": "execute_result"
    }
   ],
   "source": [
    "list(df1)"
   ]
  },
  {
   "cell_type": "code",
   "execution_count": 48,
   "metadata": {},
   "outputs": [
    {
     "data": {
      "text/plain": [
       "[[1, 2, 3, 4], [1, 5, 8, 8], [2, 2, 4, 9], [7, 4, 2, 3], [3, 0, 5, 2]]"
      ]
     },
     "execution_count": 48,
     "metadata": {},
     "output_type": "execute_result"
    }
   ],
   "source": [
    "n = df1.values.tolist()\n",
    "n.insert(0,[1,2,3,4])\n",
    "n"
   ]
  },
  {
   "cell_type": "code",
   "execution_count": 38,
   "metadata": {},
   "outputs": [
    {
     "name": "stdout",
     "output_type": "stream",
     "text": [
      "Help on built-in function insert:\n",
      "\n",
      "insert(index, object, /) method of builtins.list instance\n",
      "    Insert object before index.\n",
      "\n"
     ]
    }
   ],
   "source": [
    "help([].insert)"
   ]
  },
  {
   "cell_type": "code",
   "execution_count": 2,
   "metadata": {},
   "outputs": [],
   "source": [
    "import xlwings as xw\n",
    "\n",
    "app = xw.App(visible=True, add_book=False) #visible 窗口可见性；add_book 是否新建工作簿"
   ]
  },
  {
   "cell_type": "code",
   "execution_count": 3,
   "metadata": {},
   "outputs": [],
   "source": [
    "workbook = app.books.add() #add() books对象新建工作簿\n",
    "worksheet = workbook.sheets['Sheet1'] #选择工作表[0]\n",
    "worksheet.range('A1','A10').value='hello xlwings'\n",
    "workbook.save('hh.xlsx')\n",
    "workbook.close()\n",
    "# app.quit()"
   ]
  },
  {
   "cell_type": "code",
   "execution_count": 4,
   "metadata": {},
   "outputs": [],
   "source": [
    "# 资料表\n",
    "workbook = app.books.open('第一个表.xlsx')\n",
    "sheet = workbook.sheets[0]\n",
    "info = sheet.used_range\n",
    "\n",
    "# 填写的单元格\n",
    "list_cell = ['B1']\n",
    "\n",
    "k = 0\n",
    "\n",
    "# 资料表每行数据\n",
    "for i in info.raw_value[1:]:\n",
    "    #模板表\n",
    "    wb = app.books.open(r'hh.xlsx')\n",
    "    st = wb.sheets[0]\n",
    "    \n",
    "    # 写入/修改数据\n",
    "    st['B1'].value = i[0]\n",
    "    \n",
    "    # 设置单元格格式\n",
    "    for j in list_cell:\n",
    "        st[j].api.Font.Name = '楷体'\n",
    "        st[j].api.Font.Size = 14\n",
    "        # 上下居中\n",
    "        st[j].expand('table').api.HorizontalAlignment=xw.constants.HAlign.xlHAlignCenter\n",
    "        # 水平居中\n",
    "        st[j].expand('table').api.VerticalAlignment=xw.constants.VAlign.xlVAlignCenter\n",
    "    wb.save(f'hh{k}.xlsx') #另存为\n",
    "    wb.close()\n",
    "    k+=1\n",
    "\n",
    "workbook.close()\n",
    "app.quit()"
   ]
  },
  {
   "cell_type": "code",
   "execution_count": null,
   "metadata": {},
   "outputs": [],
   "source": []
  },
  {
   "cell_type": "code",
   "execution_count": null,
   "metadata": {},
   "outputs": [],
   "source": []
  }
 ],
 "metadata": {
  "kernelspec": {
   "display_name": "Python 3",
   "language": "python",
   "name": "python3"
  },
  "language_info": {
   "codemirror_mode": {
    "name": "ipython",
    "version": 3
   },
   "file_extension": ".py",
   "mimetype": "text/x-python",
   "name": "python",
   "nbconvert_exporter": "python",
   "pygments_lexer": "ipython3",
   "version": "3.8.5"
  }
 },
 "nbformat": 4,
 "nbformat_minor": 4
}
