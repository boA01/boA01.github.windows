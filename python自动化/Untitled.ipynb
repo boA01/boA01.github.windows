{
 "cells": [
  {
   "cell_type": "code",
   "execution_count": 13,
   "metadata": {},
   "outputs": [
    {
     "name": "stdout",
     "output_type": "stream",
     "text": [
      "624\n"
     ]
    }
   ],
   "source": [
    "# 贴门牌号\n",
    "\n",
    "n = 0\n",
    "for i in range(1,2021):\n",
    "    n += str(i).count('2')\n",
    "print(n)"
   ]
  },
  {
   "cell_type": "code",
   "execution_count": 48,
   "metadata": {},
   "outputs": [
    {
     "name": "stdout",
     "output_type": "stream",
     "text": [
      "no\n"
     ]
    }
   ],
   "source": [
    "# 日期\n",
    "\n",
    "import datetime as dt\n",
    "\n",
    "# start = dt.date(2000,1,1)\n",
    "# end = dt.date(2020,10,1)\n",
    "# (end-start).days\n",
    "\n",
    "# d = dt.datetime(1,1,1)+dt.timedelta(seconds=5436)\n",
    "# print(f\"{d.hour}:{d.minute}:{d.second}\")\n",
    "\n",
    "# dt.date.fromisoformat(\"2020-03-03\")\n",
    "\n",
    "try:\n",
    "    dt.date(2020,8,33)\n",
    "    print(\"yes\")\n",
    "except:\n",
    "    print(\"no\")\n"
   ]
  },
  {
   "cell_type": "code",
   "execution_count": 64,
   "metadata": {},
   "outputs": [
    {
     "data": {
      "text/plain": [
       "'2021-03-14'"
      ]
     },
     "execution_count": 64,
     "metadata": {},
     "output_type": "execute_result"
    }
   ],
   "source": [
    "dt.date.isoformat(_)"
   ]
  },
  {
   "cell_type": "code",
   "execution_count": 2,
   "metadata": {},
   "outputs": [
    {
     "data": {
      "text/plain": [
       "3"
      ]
     },
     "execution_count": 2,
     "metadata": {},
     "output_type": "execute_result"
    }
   ],
   "source": [
    "import math as m\n",
    "m.gcd(12,18)"
   ]
  },
  {
   "cell_type": "code",
   "execution_count": 1,
   "metadata": {},
   "outputs": [
    {
     "name": "stdout",
     "output_type": "stream",
     "text": [
      "3\n"
     ]
    }
   ],
   "source": [
    " print(f\"{3}\")"
   ]
  },
  {
   "cell_type": "code",
   "execution_count": 91,
   "metadata": {},
   "outputs": [
    {
     "name": "stdout",
     "output_type": "stream",
     "text": [
      "程序开始\n",
      "hello,decorator\n",
      "程序结束\n"
     ]
    }
   ],
   "source": [
    "# 装饰器\n",
    "\n",
    "def decorator(fun):\n",
    "    def wrapper(*args,**kw):\n",
    "        print(\"程序开始\")\n",
    "        fun()\n",
    "        print(\"程序结束\")\n",
    "    return wrapper\n",
    "\n",
    "@decorator\n",
    "def test():\n",
    "    print(\"hello,decorator\")\n",
    "    \n",
    "test()"
   ]
  },
  {
   "cell_type": "code",
   "execution_count": 296,
   "metadata": {},
   "outputs": [
    {
     "name": "stdout",
     "output_type": "stream",
     "text": [
      "2 1\n"
     ]
    }
   ],
   "source": [
    "# 原地交换\n",
    "\n",
    "x,y=1,2\n",
    "x,y=y,x\n",
    "print(x,y)"
   ]
  },
  {
   "cell_type": "code",
   "execution_count": 96,
   "metadata": {},
   "outputs": [
    {
     "data": {
      "text/plain": [
       "'123'"
      ]
     },
     "execution_count": 96,
     "metadata": {},
     "output_type": "execute_result"
    }
   ],
   "source": [
    "# 连接字符串\n",
    "\n",
    "l = ['1','2','3']\n",
    "\"\".join(l)"
   ]
  },
  {
   "cell_type": "code",
   "execution_count": 112,
   "metadata": {},
   "outputs": [
    {
     "data": {
      "text/plain": [
       "[(1, 3), (2, 4), (6, 5)]"
      ]
     },
     "execution_count": 112,
     "metadata": {},
     "output_type": "execute_result"
    }
   ],
   "source": [
    "l=[[1,2,6],[3,4,5]]\n",
    "list(zip(*l))"
   ]
  },
  {
   "cell_type": "code",
   "execution_count": 56,
   "metadata": {},
   "outputs": [
    {
     "name": "stdout",
     "output_type": "stream",
     "text": [
      "4\n",
      "50.2654825\n"
     ]
    }
   ],
   "source": [
    "# 圆面积\n",
    "\n",
    "import math as mt\n",
    "\n",
    "r = int(input())\n",
    "print(\"{:.7f}\".format(mt.pi*r**2))"
   ]
  },
  {
   "cell_type": "code",
   "execution_count": 71,
   "metadata": {},
   "outputs": [
    {
     "data": {
      "text/plain": [
       "datetime.datetime(1, 1, 1, 6, 5)"
      ]
     },
     "execution_count": 71,
     "metadata": {},
     "output_type": "execute_result"
    }
   ],
   "source": [
    "# 时间计算\n",
    "\n",
    "t = dt.datetime(1,1,1,3,20)+dt.timedelta(minutes=165)\n",
    "t"
   ]
  },
  {
   "cell_type": "code",
   "execution_count": 5,
   "metadata": {},
   "outputs": [
    {
     "ename": "NameError",
     "evalue": "name 'dt' is not defined",
     "output_type": "error",
     "traceback": [
      "\u001b[1;31m---------------------------------------------------------------------------\u001b[0m",
      "\u001b[1;31mNameError\u001b[0m                                 Traceback (most recent call last)",
      "\u001b[1;32m<ipython-input-5-f890a354b038>\u001b[0m in \u001b[0;36m<module>\u001b[1;34m\u001b[0m\n\u001b[0;32m      1\u001b[0m \u001b[0ms1\u001b[0m \u001b[1;33m=\u001b[0m \u001b[1;34m\"12-12-12\"\u001b[0m\u001b[1;33m\u001b[0m\u001b[1;33m\u001b[0m\u001b[0m\n\u001b[1;32m----> 2\u001b[1;33m \u001b[0mprint\u001b[0m\u001b[1;33m(\u001b[0m\u001b[0mdt\u001b[0m\u001b[1;33m.\u001b[0m\u001b[0mdatetime\u001b[0m\u001b[1;33m.\u001b[0m\u001b[0mstrptime\u001b[0m\u001b[1;33m(\u001b[0m\u001b[0ms1\u001b[0m\u001b[1;33m,\u001b[0m\u001b[1;34m\"%y-%m-%d\"\u001b[0m\u001b[1;33m)\u001b[0m\u001b[1;33m.\u001b[0m\u001b[0mdate\u001b[0m\u001b[1;33m(\u001b[0m\u001b[1;33m)\u001b[0m\u001b[1;33m)\u001b[0m\u001b[1;33m\u001b[0m\u001b[1;33m\u001b[0m\u001b[0m\n\u001b[0m\u001b[0;32m      3\u001b[0m \u001b[1;31m# dt.datetime.strptime('2019-05-31', '%Y-%m-%d')\u001b[0m\u001b[1;33m\u001b[0m\u001b[1;33m\u001b[0m\u001b[1;33m\u001b[0m\u001b[0m\n",
      "\u001b[1;31mNameError\u001b[0m: name 'dt' is not defined"
     ]
    }
   ],
   "source": [
    "s1 = \"12-12-12\"\n",
    "print(dt.datetime.strptime(s1,\"%y-%m-%d\").date())\n",
    "# dt.datetime.strptime('2019-05-31', '%Y-%m-%d') "
   ]
  },
  {
   "cell_type": "code",
   "execution_count": 87,
   "metadata": {},
   "outputs": [
    {
     "name": "stdout",
     "output_type": "stream",
     "text": [
      "04/05/03\n",
      "2003-04-05\n",
      "2003-05-04\n",
      "2004-05-03\n"
     ]
    }
   ],
   "source": [
    "# 样例输入\n",
    "# 02/03/04\n",
    "# 样例输出\n",
    "# 2002-03-04\n",
    "# 2004-02-03\n",
    "# 2004-03-02\n",
    "\n",
    "import datetime as dt\n",
    "\n",
    "def p(*ts):\n",
    "    l = []\n",
    "    for i in ts:  \n",
    "        try:\n",
    "            if int(i[0:2])>59:\n",
    "                l.append(str(dt.datetime.strptime(\"19\"+i,\"%Y-%m-%d\").date()))\n",
    "            else:\n",
    "                l.append(str(dt.datetime.strptime(\"20\"+i,\"%Y-%m-%d\").date()))\n",
    "        except:\n",
    "            pass\n",
    "        finally:\n",
    "            if i==ts[2]:\n",
    "                break\n",
    "    return l\n",
    "s1 = input(\"\").replace(\"/\",'-')\n",
    "s2 = s1.split(\"-\")\n",
    "for i in sorted(p(s1,s2[2]+\"-\"+s2[0]+\"-\"+s2[1],s2[2]+\"-\"+s2[1]+\"-\"+s2[0])):\n",
    "    print(i)"
   ]
  },
  {
   "cell_type": "code",
   "execution_count": 62,
   "metadata": {},
   "outputs": [
    {
     "name": "stdout",
     "output_type": "stream",
     "text": [
      "3 4 1\n",
      "1 3 4 "
     ]
    }
   ],
   "source": [
    "# 数列排序\n",
    "\n",
    "l = sorted(map(int,input().split()))\n",
    "for i in l:\n",
    "    print(i,end=\" \")"
   ]
  },
  {
   "cell_type": "code",
   "execution_count": 41,
   "metadata": {},
   "outputs": [
    {
     "name": "stdout",
     "output_type": "stream",
     "text": [
      "2\n",
      "39\n",
      "123ABC\n",
      "71\n",
      "4435274\n"
     ]
    }
   ],
   "source": [
    "# 样例输入\n",
    "\n",
    "# 　　2\n",
    "# 　　39\n",
    "# 　　123ABC\n",
    "\n",
    "# 样例输出\n",
    "# 　　71\n",
    "# 　　4435274\n",
    "\n",
    "n = int(input())\n",
    "l = []\n",
    "for i in range(n):\n",
    "    l.append(input())\n",
    "for j in l:\n",
    "    a = int(j,base=16)\n",
    "    print(oct(a)[2:])"
   ]
  },
  {
   "cell_type": "code",
   "execution_count": 284,
   "metadata": {},
   "outputs": [
    {
     "name": "stdout",
     "output_type": "stream",
     "text": [
      "30\n"
     ]
    }
   ],
   "source": [
    "# n = int(input())\n",
    "# print(f\"{n:x}\")\n",
    "n = 30\n",
    "print(f\"{n}\")\n",
    "# print(\"%o\"%n)\n",
    "# hex(n)"
   ]
  },
  {
   "cell_type": "code",
   "execution_count": 1,
   "metadata": {},
   "outputs": [
    {
     "name": "stdout",
     "output_type": "stream",
     "text": [
      "4\n",
      "10201\n",
      "11011\n",
      "20002\n",
      "101101\n",
      "110011\n",
      "200002\n"
     ]
    }
   ],
   "source": [
    "# 回文数\n",
    "\n",
    "n = int(input())\n",
    "l = []\n",
    "for i in range(1,10):\n",
    "    for j in range(10):\n",
    "        for k in range(10):\n",
    "            if (i+j)*2+k==n:\n",
    "                l.append(int(str(i)+str(j)+str(k)+str(j)+str(i)))\n",
    "            if i+j+k==(n//2) and n&1==0:\n",
    "                s=str(i)+str(j)+str(k)\n",
    "                l.append(int(s+s[::-1]))\n",
    "            \n",
    "for x in sorted(l):\n",
    "    print(x)"
   ]
  },
  {
   "cell_type": "code",
   "execution_count": 10,
   "metadata": {},
   "outputs": [
    {
     "name": "stdout",
     "output_type": "stream",
     "text": [
      "1 3 6 2\n",
      "36\n"
     ]
    }
   ],
   "source": [
    "# 最小公倍数\n",
    "\n",
    "import functools as ft\n",
    "import math as mt\n",
    "\n",
    "def f(l):\n",
    "    return ft.reduce(lambda x,y:x*y, l)//ft.reduce(mt.gcd,l)\n",
    "\n",
    "t = list(map(eval,input().split()))\n",
    "print(f(t))"
   ]
  },
  {
   "cell_type": "code",
   "execution_count": 13,
   "metadata": {},
   "outputs": [
    {
     "ename": "TypeError",
     "evalue": "'str' object cannot be interpreted as an integer",
     "output_type": "error",
     "traceback": [
      "\u001b[1;31m---------------------------------------------------------------------------\u001b[0m",
      "\u001b[1;31mTypeError\u001b[0m                                 Traceback (most recent call last)",
      "\u001b[1;32m<ipython-input-13-a1a04d5ce087>\u001b[0m in \u001b[0;36m<module>\u001b[1;34m\u001b[0m\n\u001b[0;32m      1\u001b[0m \u001b[0ml\u001b[0m\u001b[1;33m=\u001b[0m\u001b[0mlist\u001b[0m\u001b[1;33m(\u001b[0m\u001b[1;34m\"1362\"\u001b[0m\u001b[1;33m)\u001b[0m\u001b[1;33m\u001b[0m\u001b[1;33m\u001b[0m\u001b[0m\n\u001b[1;32m----> 2\u001b[1;33m \u001b[0mft\u001b[0m\u001b[1;33m.\u001b[0m\u001b[0mreduce\u001b[0m\u001b[1;33m(\u001b[0m\u001b[0mmt\u001b[0m\u001b[1;33m.\u001b[0m\u001b[0mgcd\u001b[0m\u001b[1;33m,\u001b[0m\u001b[0ml\u001b[0m\u001b[1;33m)\u001b[0m\u001b[1;33m\u001b[0m\u001b[1;33m\u001b[0m\u001b[0m\n\u001b[0m",
      "\u001b[1;31mTypeError\u001b[0m: 'str' object cannot be interpreted as an integer"
     ]
    }
   ],
   "source": [
    "l=list(\"1362\")\n",
    "ft.reduce(mt.gcd,l)"
   ]
  },
  {
   "cell_type": "code",
   "execution_count": 4,
   "metadata": {},
   "outputs": [
    {
     "name": "stdout",
     "output_type": "stream",
     "text": [
      "1 5 3\n",
      "000"
     ]
    }
   ],
   "source": [
    "# 除法运算\n",
    "\n",
    "a, b, c = map(eval, input().split())\n",
    "a%=b\n",
    "\n",
    "for i in range(c+2):\n",
    "    a*=10\n",
    "    if i>=c-1:\n",
    "        print(a//b,end='')\n",
    "    a%=b"
   ]
  },
  {
   "cell_type": "code",
   "execution_count": 4,
   "metadata": {},
   "outputs": [
    {
     "name": "stdout",
     "output_type": "stream",
     "text": [
      "3 10\n",
      "3=3\n",
      "4=2*2\n",
      "5=5\n",
      "6=2*3\n",
      "7=7\n",
      "8=2*2*2\n",
      "9=3*3\n",
      "10=2*5\n"
     ]
    }
   ],
   "source": [
    "# 分解质因数\n",
    "\n",
    "m, n = map(int,input().split())\n",
    "for i in range(m, n+1):\n",
    "    print(str(i)+\"=\",end=\"\")\n",
    "    t = i\n",
    "    for j in range(2, i+1):\n",
    "        while(t%j==0):\n",
    "            t//=j\n",
    "            if(t!=1):\n",
    "                print(str(j)+\"*\",end=\"\")\n",
    "            else:\n",
    "                print(str(j),end=\"\")\n",
    "    print()"
   ]
  },
  {
   "cell_type": "code",
   "execution_count": 153,
   "metadata": {},
   "outputs": [
    {
     "ename": "SyntaxError",
     "evalue": "invalid syntax (<ipython-input-153-e9e93b63ffe1>, line 15)",
     "output_type": "error",
     "traceback": [
      "\u001b[1;36m  File \u001b[1;32m\"<ipython-input-153-e9e93b63ffe1>\"\u001b[1;36m, line \u001b[1;32m15\u001b[0m\n\u001b[1;33m    int(k1+k2+k3+k4)//int(l.)+i==n\u001b[0m\n\u001b[1;37m                            ^\u001b[0m\n\u001b[1;31mSyntaxError\u001b[0m\u001b[1;31m:\u001b[0m invalid syntax\n"
     ]
    }
   ],
   "source": [
    "# 带分数\n",
    "\n",
    "# 100 = 3 + 69258 / 714\n",
    "\n",
    "def f(n):\n",
    "    s=0\n",
    "    for i in range(1,n):\n",
    "        l1 = \"123456789\"\n",
    "        for j in str(i):\n",
    "            l=l1.replace(j,\"\")\n",
    "        for k1 in l:\n",
    "            for k2 in l.replace(k1,\"\"):\n",
    "                for k3 in l.replace(k2,\"\"):\n",
    "                    for k4 in l.replace(k3,\"\"):\n",
    "                        k5 = k1+k2+k3+k4\n",
    "                        for m in k5:\n",
    "                            k6 = l.replace(m,\"\")\n",
    "                            int(k1+k2+k3+k4)//int(l)+i==n\n",
    "                            s+=1\n",
    "    return s\n",
    "print(f(100))"
   ]
  },
  {
   "cell_type": "code",
   "execution_count": 56,
   "metadata": {},
   "outputs": [
    {
     "name": "stdout",
     "output_type": "stream",
     "text": [
      "Q\n",
      "O\n",
      "N\n",
      "LAIA\n"
     ]
    }
   ],
   "source": [
    "# 删除字母\n",
    "\n",
    "s = \"LANQIAO\"\n",
    "l=list(s)\n",
    "n = 3\n",
    "for i in sorted(s)[:-4:-1]:\n",
    "    print(i)\n",
    "    l.remove(i)\n",
    "print(\"\".join(l))"
   ]
  },
  {
   "cell_type": "code",
   "execution_count": 71,
   "metadata": {},
   "outputs": [
    {
     "data": {
      "text/plain": [
       "162"
      ]
     },
     "execution_count": 71,
     "metadata": {},
     "output_type": "execute_result"
    }
   ],
   "source": [
    "# 字母间距\n",
    "\n",
    "# b = \"ZOO\"\n",
    "b = \"LANQIAO\"\n",
    "s = 0\n",
    "l = len(b)\n",
    "\n",
    "for i in range(l):\n",
    "    for j in range(i+1,l):\n",
    "        s+=abs(ord(b[i])-ord(b[j]))\n",
    "s"
   ]
  },
  {
   "cell_type": "code",
   "execution_count": 74,
   "metadata": {},
   "outputs": [
    {
     "name": "stdout",
     "output_type": "stream",
     "text": [
      "792\n"
     ]
    }
   ],
   "source": [
    "s=0\n",
    "\n",
    "for i in range(1,9):\n",
    "    for j in range(i,9):\n",
    "        for k in range(j,9):\n",
    "            for m in range(k,9):\n",
    "                for n in range(m,9):\n",
    "                    s+=1\n",
    "                    \n",
    "print(s)"
   ]
  },
  {
   "cell_type": "code",
   "execution_count": 22,
   "metadata": {},
   "outputs": [
    {
     "data": {
      "text/plain": [
       "[1, 3, 5, 7, 9, 11, 13, 15, 17, 19, 21, 23, 25]"
      ]
     },
     "execution_count": 22,
     "metadata": {},
     "output_type": "execute_result"
    }
   ],
   "source": [
    "list(range(1,20+7,2))"
   ]
  },
  {
   "cell_type": "code",
   "execution_count": 37,
   "metadata": {},
   "outputs": [
    {
     "name": "stdout",
     "output_type": "stream",
     "text": [
      "11\n"
     ]
    }
   ],
   "source": [
    "def f(n,m):\n",
    "    # 1*, 3, 5, 7, 9, 11, 13, 15, 17, 19, 21, 23, 25 ....\n",
    "    l1 = list(range(1,m+7,2))\n",
    "    s = 0\n",
    "#     print(l1)\n",
    "    \n",
    "    # 1, 3, 7, 9, 13, 15, 21, 25, 31, 33, 37, 43, 49, 51, 63, 67, 69, 73, 75, 79 ....\n",
    "    l2 = []\n",
    "    for i in range(len(l1)):\n",
    "        if (i+1)%l1[1]!=0:\n",
    "            l2.append(l1[i])\n",
    "#     print(l2)\n",
    "    \n",
    "    # 1, 3, 7*, 9, 13, 15, _, 21, 25 ....\n",
    "    l3 = []\n",
    "    for i in range(len(l2)):\n",
    "        if (i+1)%l2[2]!=0:\n",
    "            l3.append(l2[i])\n",
    "            \n",
    "    for i in l3:\n",
    "        if n<i<m:\n",
    "            s+=1\n",
    "    return s\n",
    "print(f(30,69))"
   ]
  },
  {
   "cell_type": "code",
   "execution_count": 14,
   "metadata": {},
   "outputs": [
    {
     "name": "stdout",
     "output_type": "stream",
     "text": [
      "[3, 6, 8]\n",
      "None\n"
     ]
    }
   ],
   "source": [
    "import random as rd\n",
    "# s = rd.sample(range(100),20)\n",
    "s=[3, 6, 8]\n",
    "# s.sort()\n",
    "\n",
    "# 二分查找\n",
    "\n",
    "# def f1(arr, k):\n",
    "#     l, r = 0, len(arr)-1\n",
    "    \n",
    "#     while l <= r:\n",
    "#         mid = l+(r-l)>>1\n",
    "#         print(mid)\n",
    "        \n",
    "#         if k > arr[mid]:\n",
    "#             l = mid+1\n",
    "#             print(\"l\",l)\n",
    "#         elif k < arr[mid]:\n",
    "#             r = mid-1\n",
    "#             print(\"r\",r)\n",
    "#         else:\n",
    "#             return mid\n",
    "#     else:\n",
    "#         return -1\n",
    "    \n",
    "def f2(arr, l, r, k):\n",
    "    if l > r:\n",
    "        return -1\n",
    "    \n",
    "#     mid = l+(r-l)>>1\n",
    "    mid = (l+r)>>1\n",
    "    \n",
    "    if k > arr[mid]:\n",
    "        f2(arr, mid+1, r , k)\n",
    "    elif k < arr[mid]:\n",
    "        f2(arr, l, mid-1, k)\n",
    "    else:\n",
    "        return mid\n",
    "\n",
    "print(s)\n",
    "# print(f1(s,16))\n",
    "print(f2(s, 0, len(s)-1, 3))"
   ]
  },
  {
   "cell_type": "code",
   "execution_count": 25,
   "metadata": {},
   "outputs": [
    {
     "name": "stdout",
     "output_type": "stream",
     "text": [
      "[3, 6, 8]\n",
      "2\n"
     ]
    }
   ],
   "source": [
    "def f2(arr, l, r, k):\n",
    "    if l > r:\n",
    "        return -1\n",
    "    \n",
    "    mid = (l+r)>>1\n",
    "\n",
    "    if k > arr[mid]:\n",
    "        return f2(arr, mid+1, r , k)\n",
    "    elif k < arr[mid]:\n",
    "        return f2(arr, l, mid-1, k)\n",
    "    else:\n",
    "        return mid\n",
    "\n",
    "print(s)\n",
    "print(f2(s, 0, len(s)-1, 8))"
   ]
  },
  {
   "cell_type": "code",
   "execution_count": 19,
   "metadata": {},
   "outputs": [
    {
     "name": "stdout",
     "output_type": "stream",
     "text": [
      "['a', 'a', 'b', 'c'] 6\n",
      "交换： 1\n"
     ]
    }
   ],
   "source": [
    "# 冒泡\n",
    "'''\n",
    "迭代n-1项，两两比较，依次确定末位\n",
    "'''\n",
    "\n",
    "def f(arr):\n",
    "    s,num = 0,0\n",
    "    for i in range(len(arr)-1, 0, -1):\n",
    "        for j in range(i):\n",
    "            s+=1\n",
    "            if arr[j] > arr[j+1]:\n",
    "                num+=1\n",
    "                arr[j],arr[j+1]=arr[j+1],arr[j]\n",
    "    #优化\n",
    "    else:\n",
    "        print(arr,s)\n",
    "    return num\n",
    "\n",
    "# print(f(list(\"jonmlkihgfedcba\")))\n",
    "print(\"交换：\", f(list(\"abac\")))"
   ]
  },
  {
   "cell_type": "code",
   "execution_count": 8,
   "metadata": {},
   "outputs": [
    {
     "name": "stdout",
     "output_type": "stream",
     "text": [
      "['a', 'b', 'c', 'd', 'e', 'f', 'g', 'h', 'i', 'j', 'k', 'l', 'm', 'n', 'o']\n",
      "交换： 12\n"
     ]
    }
   ],
   "source": [
    "# 选择\n",
    "'''\n",
    "迭代n-1项，指定位与后面位比较，依次确定本位\n",
    "'''\n",
    "\n",
    "def f(arr):\n",
    "    num = 0\n",
    "    for i in range(len(arr)-1,0,-1):\n",
    "        for j in range(i):\n",
    "            if arr[i]<arr[j]:\n",
    "                arr[i],arr[j]=arr[j],arr[i]\n",
    "                num+=1\n",
    "    print(arr) \n",
    "    return num\n",
    "\n",
    "print(\"交换：\",f(list(\"jonmlkihgfedcba\")))"
   ]
  },
  {
   "cell_type": "code",
   "execution_count": 14,
   "metadata": {},
   "outputs": [
    {
     "name": "stdout",
     "output_type": "stream",
     "text": [
      "123 1 453\n",
      "None\n"
     ]
    }
   ],
   "source": [
    "# 希尔排序（插入排序优化）\n",
    "'''\n",
    "\n",
    "'''\n",
    "\n",
    "l = list(map(int, input().split()))\n",
    "\n",
    "def f(a):\n",
    "    if len(a)==1:\n",
    "        return a\n",
    "    return f(a, len(a)-1)\n",
    "    m = a[l-1]\n",
    "    i = len(a)-2\n",
    "    while i>=0 and a[i]>m:\n",
    "        a[i+1] = a[i]\n",
    "        i-=1\n",
    "    a[i+1] = m\n",
    "    \n",
    "print(f(l))"
   ]
  },
  {
   "cell_type": "code",
   "execution_count": 17,
   "metadata": {},
   "outputs": [
    {
     "name": "stdout",
     "output_type": "stream",
     "text": [
      "['j', 'k', 'j', 'l', 's']\n"
     ]
    }
   ],
   "source": [
    "# 归并排序\n",
    "\n",
    "'''\n",
    "分而治之\n",
    "时间复杂度：O(nlogn)\n",
    "空间复杂度：O(logn)\n",
    "'''\n",
    "\n",
    "def merge(l, r):\n",
    "    i, j = 0, 0\n",
    "    result = []\n",
    "    while i < len(l) and j < len(r):\n",
    "        if l[i] <= r[j]:\n",
    "            result.append(l[i])\n",
    "            i += 1\n",
    "        else:\n",
    "            result.append(r[j])\n",
    "            j+=1\n",
    "        result.extend(l[i:])\n",
    "        result.extend(r[j:])\n",
    "        return result\n",
    "    \n",
    "def merge_sort(a):\n",
    "    if len(a) <= 1:\n",
    "        return a\n",
    "    middle = len(a)>>1\n",
    "    l = merge_sort(a[:middle])\n",
    "    r = merge_sort(a[middle:])\n",
    "    return merge(l, r)\n",
    "\n",
    "print(merge_sort(\"jkjsl\"))"
   ]
  },
  {
   "cell_type": "code",
   "execution_count": 16,
   "metadata": {},
   "outputs": [
    {
     "name": "stdout",
     "output_type": "stream",
     "text": [
      "['j', 'j', 'k', 'l', 's']\n"
     ]
    }
   ],
   "source": [
    "# 快速排序\n",
    "'''\n",
    "选取一个基准值，其余数小左大右\n",
    "\n",
    "'''\n",
    "\n",
    "def quick_sort(arr):\n",
    "    if (le:=len(arr))>1: #递归入口\n",
    "        mid = arr[le-1] #基值\n",
    "        l, r = [], []\n",
    "        arr.remove(mid)\n",
    "        for i in arr:\n",
    "            if i>mid:\n",
    "                r.append(i) #大于基准值放右边\n",
    "            else:\n",
    "                l.append(i) #小于基准值放左边\n",
    "        return quick_sort(l) + [mid] + quick_sort(r)\n",
    "    else:\n",
    "        return arr\n",
    "\n",
    "def  \n",
    "        \n",
    "print(quick_sort(list(\"jlskj\")))"
   ]
  },
  {
   "cell_type": "code",
   "execution_count": 29,
   "metadata": {},
   "outputs": [
    {
     "name": "stdout",
     "output_type": "stream",
     "text": [
      "jdfsjfls\n",
      "f\n",
      "2\n"
     ]
    }
   ],
   "source": [
    "# 单词分析-数量最多的第一个字母\n",
    "\n",
    "a = input()\n",
    "l1 = [0]*26\n",
    "\n",
    "for i in a:\n",
    "    l1[ord(i)-97]+=1\n",
    "    \n",
    "print(chr(97+l1.index(max(l1))))\n",
    "print(max(l1))"
   ]
  },
  {
   "cell_type": "code",
   "execution_count": 60,
   "metadata": {},
   "outputs": [
    {
     "name": "stdout",
     "output_type": "stream",
     "text": [
      "153\n",
      "370\n",
      "371\n",
      "407\n"
     ]
    }
   ],
   "source": [
    "# 特殊数\n",
    "\n",
    "for i in range(100,1000):\n",
    "    k = 0\n",
    "    for j in str(i):\n",
    "        k+=int(j)**3\n",
    "    if k==i:\n",
    "       print(i)"
   ]
  },
  {
   "cell_type": "code",
   "execution_count": 53,
   "metadata": {},
   "outputs": [
    {
     "name": "stdout",
     "output_type": "stream",
     "text": [
      "4\n",
      "1 \n",
      "1 1 \n",
      "1 2 1 \n",
      "1 3 3 1 \n"
     ]
    }
   ],
   "source": [
    "# 杨辉三角\n",
    "\n",
    "n = int(input())\n",
    "l = list([1]*i for i in range(1,n+1))\n",
    "\n",
    "for i in range(n):\n",
    "    for j in range(i):\n",
    "        if j!=0:\n",
    "            l[i][j]=l[i-1][j-1]+l[i-1][j]\n",
    "\n",
    "for m in l:\n",
    "    for n in m:\n",
    "        print(n,end=\" \")\n",
    "    print()"
   ]
  },
  {
   "cell_type": "code",
   "execution_count": 9,
   "metadata": {},
   "outputs": [
    {
     "name": "stdout",
     "output_type": "stream",
     "text": [
      "5 7\n",
      "ABCDEFG\n",
      "BABCDEF\n",
      "CBABCDE\n",
      "DCBABCD\n",
      "EDCBABC\n"
     ]
    }
   ],
   "source": [
    "# 规律图\n",
    "\n",
    "'''\n",
    "样例输入\n",
    "    5 7\n",
    "样例输出\n",
    "    ABCDEFG\n",
    "    BABCDEF\n",
    "    CBABCDE\n",
    "    DCBABCD\n",
    "    EDCBABC \n",
    "'''\n",
    "\n",
    "m, n = map(int, input().split())\n",
    "\n",
    "for i in range(m):\n",
    "    for j in range(n):\n",
    "        print(chr(65+abs(i-j)), end=\"\")\n",
    "    print()"
   ]
  },
  {
   "cell_type": "code",
   "execution_count": 61,
   "metadata": {},
   "outputs": [
    {
     "name": "stdout",
     "output_type": "stream",
     "text": [
      "2 3\n",
      "2 3 5\n",
      "2 3 1\n",
      "2 2 \n",
      "3 3 \n",
      "5 1 \n"
     ]
    }
   ],
   "source": [
    "# 转置\n",
    "\n",
    "a,b=map(int,input().split())\n",
    "l=[]\n",
    "\n",
    "for i in range(a):\n",
    "    l.append(list(map(eval,input().split())))\n",
    "\n",
    "for i in list(zip(*l)):\n",
    "    for j in i:\n",
    "        print(j,end=\" \")\n",
    "    print()"
   ]
  },
  {
   "cell_type": "code",
   "execution_count": 6,
   "metadata": {},
   "outputs": [
    {
     "name": "stdout",
     "output_type": "stream",
     "text": [
      "2 2\n",
      "12 23\n",
      " 45 56\n",
      "2 2\n",
      "78 89\n",
      "45 56\n",
      "1971 2356 \n",
      "6030 7141 \n"
     ]
    }
   ],
   "source": [
    "# 矩阵相乘\n",
    "\n",
    "a1=[]\n",
    "m,n = map(int,input().split())\n",
    "for i in range(m):\n",
    "    a1.append(list(map(int,input().split())))\n",
    "    \n",
    "a2=[]\n",
    "a,b = map(int,input().split())\n",
    "for i in range(a):\n",
    "    a2.append(list(map(int,input().split())))\n",
    "\n",
    "if(n==a):\n",
    "    for i in range(m):\n",
    "        for j in range(b):\n",
    "            s=0\n",
    "            for k in range(n):\n",
    "                s+=a1[i][k]*a2[k][j]\n",
    "            print(s,end=\" \")\n",
    "        print()"
   ]
  },
  {
   "cell_type": "code",
   "execution_count": 72,
   "metadata": {},
   "outputs": [
    {
     "name": "stdout",
     "output_type": "stream",
     "text": [
      "4 4\n",
      "1 2 3 4\n",
      "2 3 4 5\n",
      "3 4 5 6\n",
      "4 5 6 7\n",
      "1 2 3 4 5 6 7 6 5 4 3 2 3 4 5 4 "
     ]
    }
   ],
   "source": [
    "import math  #导入math包\n",
    "r,c=map(int,input().split())#其中r,c分别代表要输入数据的行数和列数\n",
    "list1=[]#列表用来存放键盘输入的数据\n",
    "ans=[]#用来存放要输出的数据\n",
    "for i in range(0,r):#二维列表输入实例\n",
    "    list1.append(input().split())\n",
    "for j in range(0,math.ceil(min(r,c)/2)):#math.ceil（）函数是用来向上取整，向下取整直接整数相除即可，math.ceil(min(r,c)/2表示要转的圈数\n",
    "    for x in range(j,r-j):#将第j圈的左“1”字形x放入ans；\n",
    "        ans.append(list1[x][j])\n",
    "    for y in range(j+1,c-j):#将第j圈的下“一”字形x放入ans;\n",
    "        ans.append(list1[r-1-j][y])\n",
    "    if c-1>2*j:#判断一下是否还有多余的列需要转圈\n",
    "        for p in range(r-j-2,j-1,-1):#将第j圈的右“1”字形放入ans；\n",
    "            ans.append(list1[p][c-1-j])\n",
    "    if r-1>2*j:\n",
    "        for q in range(c-j-2,j,-1):#将第j圈的上“一”字形放入ans；\n",
    "            ans.append(list1[j][q])\n",
    "for x in ans:\n",
    "    print(x,'',end='')"
   ]
  },
  {
   "cell_type": "code",
   "execution_count": null,
   "metadata": {},
   "outputs": [],
   "source": [
    "m, n = map(int,input().split())\n",
    "list1 = []\n",
    "for i in range(0, r):\n",
    "    list1.append(list(input().split()))\n",
    "\n",
    "leftUpRow = 0\n",
    "leftUpCol = 0\n",
    "rightDownRow = m-1\n",
    "rightDownCol = n-1\n",
    "while leftUpCol<=rightDownCol:\n",
    "    print(list1[leftUpCol][leftUpCol])\n"
   ]
  },
  {
   "cell_type": "code",
   "execution_count": 11,
   "metadata": {},
   "outputs": [
    {
     "ename": "IndexError",
     "evalue": "list assignment index out of range",
     "output_type": "error",
     "traceback": [
      "\u001b[1;31m---------------------------------------------------------------------------\u001b[0m",
      "\u001b[1;31mIndexError\u001b[0m                                Traceback (most recent call last)",
      "\u001b[1;32m<ipython-input-11-cdb2c5dd450c>\u001b[0m in \u001b[0;36m<module>\u001b[1;34m\u001b[0m\n\u001b[0;32m      1\u001b[0m \u001b[0ma\u001b[0m\u001b[1;33m=\u001b[0m\u001b[1;33m[\u001b[0m\u001b[1;33m]\u001b[0m\u001b[1;33m\u001b[0m\u001b[1;33m\u001b[0m\u001b[0m\n\u001b[1;32m----> 2\u001b[1;33m \u001b[0ma\u001b[0m\u001b[1;33m[\u001b[0m\u001b[1;36m0\u001b[0m\u001b[1;33m]\u001b[0m\u001b[1;33m=\u001b[0m\u001b[1;36m1\u001b[0m\u001b[1;33m\u001b[0m\u001b[1;33m\u001b[0m\u001b[0m\n\u001b[0m\u001b[0;32m      3\u001b[0m \u001b[0ma\u001b[0m\u001b[1;33m[\u001b[0m\u001b[1;36m1\u001b[0m\u001b[1;33m]\u001b[0m\u001b[1;33m=\u001b[0m\u001b[1;36m3\u001b[0m\u001b[1;33m\u001b[0m\u001b[1;33m\u001b[0m\u001b[0m\n",
      "\u001b[1;31mIndexError\u001b[0m: list assignment index out of range"
     ]
    }
   ],
   "source": [
    "# 假设当前有M块糖，小B每次可以拿P块糖，其中P是M的一个不大于根号下M的质因数。\n",
    "# 这时，妈妈就会在小B拿了P块糖以后再从糖堆里拿走P块糖。然后小B就可以接着拿糖。\n",
    "N = int(input())\n",
    "\n",
    "s=0\n",
    "M = N\n",
    "for i in range(int(M**0.5),0,-1):\n",
    "    if(M%i==0 and i):\n",
    "        s+=i\n",
    "        M-=i\n",
    "s"
   ]
  },
  {
   "cell_type": "code",
   "execution_count": 49,
   "metadata": {},
   "outputs": [
    {
     "name": "stdout",
     "output_type": "stream",
     "text": [
      "1984\n",
      "jiazi\n"
     ]
    }
   ],
   "source": [
    "# 天干地支\n",
    "# l1=list(\"甲乙丙丁戊己庚辛壬癸\")\n",
    "# l2=list(\"子丑寅卯辰巳午未申酉戌亥\")\n",
    "\n",
    "l1 = ['jia', 'yi', 'bing', 'ding', 'wu', 'ji', 'geng', 'xin', 'ren', 'gui']\n",
    "l2 = ['zi', 'chou', 'yin', 'mao', 'chen', 'si', 'wu', 'wei', 'shen', 'you', 'xu', 'hai']\n",
    "l3 = list(zip(l1*6,l2*5))\n",
    "n=int(input())\n",
    "print(''.join(l3[abs(n-1984)%60]))"
   ]
  },
  {
   "cell_type": "code",
   "execution_count": 38,
   "metadata": {},
   "outputs": [
    {
     "name": "stdout",
     "output_type": "stream",
     "text": [
      "200\n",
      "no\n"
     ]
    }
   ],
   "source": [
    "# 闰年\n",
    "\n",
    "import calendar as cal\n",
    "y=int(input())\n",
    "\n",
    "print(\"yes\" if cal.isleap(y) else \"no\")"
   ]
  },
  {
   "cell_type": "code",
   "execution_count": 70,
   "metadata": {},
   "outputs": [
    {
     "name": "stdout",
     "output_type": "stream",
     "text": [
      "e\n",
      "E\n"
     ]
    }
   ],
   "source": [
    "print(input().upper())"
   ]
  },
  {
   "cell_type": "code",
   "execution_count": 31,
   "metadata": {},
   "outputs": [
    {
     "data": {
      "text/plain": [
       "[0, -2, -4, 6, -8]"
      ]
     },
     "execution_count": 31,
     "metadata": {},
     "output_type": "execute_result"
    }
   ],
   "source": [
    "# 三目和筛选\n",
    "\n",
    "l = list(i if i%3==0 else -i for i in range(10) if i&1==0)\n",
    "l\n"
   ]
  },
  {
   "cell_type": "code",
   "execution_count": 247,
   "metadata": {},
   "outputs": [
    {
     "name": "stdout",
     "output_type": "stream",
     "text": [
      "4\n"
     ]
    }
   ],
   "source": [
    "# 海马运算符\n",
    "\n",
    "if (a:=(1+3))>3:\n",
    "        print(a)"
   ]
  },
  {
   "cell_type": "code",
   "execution_count": 48,
   "metadata": {},
   "outputs": [
    {
     "name": "stdout",
     "output_type": "stream",
     "text": [
      "3\n",
      "3 2 0\n",
      "7\n"
     ]
    }
   ],
   "source": [
    "# Huffuman树, 总费用\n",
    "\n",
    "def f(l):\n",
    "    s = 0\n",
    "    while len(l)>1:\n",
    "            l.sort()\n",
    "            x, y = l[0:2]\n",
    "            l.remove(x)\n",
    "            l.remove(y)\n",
    "            l.append(x+y)\n",
    "            s+=(x+y)\n",
    "    else:\n",
    "        return s\n",
    "\n",
    "n = int(input())\n",
    "l = list(map(eval,input().split()))   \n",
    "print(f(l))"
   ]
  },
  {
   "cell_type": "code",
   "execution_count": 7,
   "metadata": {},
   "outputs": [],
   "source": [
    "n = int(input())\n"
   ]
  },
  {
   "cell_type": "code",
   "execution_count": 69,
   "metadata": {},
   "outputs": [
    {
     "data": {
      "text/plain": [
       "14"
      ]
     },
     "execution_count": 69,
     "metadata": {},
     "output_type": "execute_result"
    }
   ],
   "source": [
    "# 阶乘\n",
    "\n",
    "import math as m\n",
    "# m.factorial(3)\n",
    "# m.log(10000,2)\n",
    "l = m.log2(10001)\n",
    "# m.floor(l) #向下取整\n",
    "m.ceil(l) #向上取整"
   ]
  },
  {
   "cell_type": "code",
   "execution_count": 11,
   "metadata": {},
   "outputs": [
    {
     "data": {
      "text/plain": [
       "[2, 2, 3, 4, 5]"
      ]
     },
     "execution_count": 11,
     "metadata": {},
     "output_type": "execute_result"
    }
   ],
   "source": [
    "l = [2,2,3,5,4]\n",
    "l.sort()\n",
    "l"
   ]
  },
  {
   "cell_type": "code",
   "execution_count": 63,
   "metadata": {},
   "outputs": [
    {
     "name": "stdout",
     "output_type": "stream",
     "text": [
      "3\n",
      "['*', '*', '*']\n",
      "['*', '*', '*']\n",
      "['*', '*', '*']\n"
     ]
    }
   ],
   "source": [
    "n = int(input())\n",
    "\n",
    "li = [[\"*\"]*n]*n\n",
    "for i in li:\n",
    "    print(i)"
   ]
  },
  {
   "cell_type": "code",
   "execution_count": null,
   "metadata": {},
   "outputs": [],
   "source": [
    "h = input()\n",
    "m = input()\n",
    "print(f\"{h}\")"
   ]
  },
  {
   "cell_type": "code",
   "execution_count": 70,
   "metadata": {},
   "outputs": [
    {
     "name": "stdout",
     "output_type": "stream",
     "text": [
      "2 3\n",
      "1 2 3\n",
      "3 4 5\n"
     ]
    }
   ],
   "source": [
    "m,n = map(int,input().split())\n",
    "l = []\n",
    "\n",
    "for i in range(m):\n",
    "    l.append(list(map(int,(input().split()))))\n",
    "\n",
    "\n",
    "for j in m:\n",
    "    print(l[j][0])\n",
    "for k in n:\n",
    "    print(l[j][1:])\n",
    "for h in "
   ]
  },
  {
   "cell_type": "code",
   "execution_count": 80,
   "metadata": {},
   "outputs": [
    {
     "name": "stdout",
     "output_type": "stream",
     "text": [
      "4 1 3 3 0\n",
      "D\n",
      "0\n"
     ]
    }
   ],
   "source": [
    "# 龟兔赛跑\n",
    "\n",
    "#tv,rv分别是乌龟和兔子的速度，t是兔子的领先米数，s是兔子领先t米后休息时间，l跑道长度\n",
    "rv,tv,t,s,l = map(eval,input().split())\n",
    "\n",
    "sr = 0 #兔子跑的米数\n",
    "st = 0 #乌龟跑的米数\n",
    "ti = 0 #比赛时间\n",
    "\n",
    "while sr<l and st<l:\n",
    "    sr+=rv\n",
    "    st+=tv\n",
    "    ti+=1\n",
    "#     print(f\"{ti} {sr} {st}\")\n",
    "    \n",
    "    if (sr-st)>=t and sr<l and st<l:\n",
    "        for i in range(s):\n",
    "            st+=tv\n",
    "            ti+=1\n",
    "#             print(f\"{ti} {sr} {st}\")\n",
    "            \n",
    "            if st>=l:\n",
    "                print(\"ttt\")\n",
    "                break\n",
    "    \n",
    "\n",
    "if sr==st:\n",
    "    print(\"D\")\n",
    "elif sr>st:\n",
    "    print(\"R\")\n",
    "else:\n",
    "    print(\"T\")\n",
    "print(ti)"
   ]
  },
  {
   "cell_type": "code",
   "execution_count": 7,
   "metadata": {},
   "outputs": [
    {
     "name": "stdout",
     "output_type": "stream",
     "text": [
      "0 1 2\n"
     ]
    }
   ],
   "source": [
    "itertor_= (i for i in range(3))\n",
    "a,b,c = itertor_\n",
    "print(a,b,c)"
   ]
  },
  {
   "cell_type": "code",
   "execution_count": null,
   "metadata": {},
   "outputs": [],
   "source": [
    "# 芯片测试\n",
    "\n"
   ]
  },
  {
   "cell_type": "code",
   "execution_count": 286,
   "metadata": {},
   "outputs": [
    {
     "name": "stdout",
     "output_type": "stream",
     "text": [
      "4\n",
      "['A', 'B', 'A', 'C', 'A', 'B', 'A', 'D', 'A', 'B', 'A', 'C', 'A', 'B', 'A']\n"
     ]
    }
   ],
   "source": [
    "# fj的字符串\n",
    "\n",
    "# 1 A\n",
    "# 2 ABA\n",
    "# 3 ABACABA\n",
    "# 4 ABACABADABACABA\n",
    "\n",
    "n = int(input())\n",
    "AN = []\n",
    "\n",
    "for i in range(n):\n",
    "    AN.append(chr(65+i))\n",
    "    for j in AN[:-1]:\n",
    "        AN.append(j)\n",
    "        \n",
    "for k in AN:\n",
    "    print(k,end='')"
   ]
  },
  {
   "cell_type": "code",
   "execution_count": 32,
   "metadata": {},
   "outputs": [
    {
     "data": {
      "text/plain": [
       "'Jljl'"
      ]
     },
     "execution_count": 32,
     "metadata": {},
     "output_type": "execute_result"
    }
   ],
   "source": [
    "\"jljl\".title()"
   ]
  },
  {
   "cell_type": "code",
   "execution_count": 36,
   "metadata": {},
   "outputs": [
    {
     "name": "stdout",
     "output_type": "stream",
     "text": [
      "Help on built-in function join:\n",
      "\n",
      "join(iterable, /) method of builtins.str instance\n",
      "    Concatenate any number of strings.\n",
      "    \n",
      "    The string whose method is called is inserted in between each given string.\n",
      "    The result is returned as a new string.\n",
      "    \n",
      "    Example: '.'.join(['ab', 'pq', 'rs']) -> 'ab.pq.rs'\n",
      "\n"
     ]
    }
   ],
   "source": [
    "help(\"jkl\".join)"
   ]
  },
  {
   "cell_type": "code",
   "execution_count": 221,
   "metadata": {},
   "outputs": [
    {
     "name": "stdout",
     "output_type": "stream",
     "text": [
      "20020\n",
      "二万零零二十\n"
     ]
    }
   ],
   "source": [
    "# 读数字\n",
    "\n",
    "# 4820938402 ['2048', '3902', '84']\n",
    "n = list(input())\n",
    "n.reverse()\n",
    "\n",
    "a = {0:\"\",1:\"十\",2:\"百\",3:\"千\"}\n",
    "b = {0:\"\",1:\"万\",2:\"亿\",3:\"万亿\"}\n",
    "d = dict(zip(\"0123456789\",\"零一二三四五六七八九\"))\n",
    "s = \"\"\n",
    "\n",
    "for i in range(4,len(n),5):\n",
    "    n.insert(i,\",\")\n",
    "    \n",
    "l = ''.join(n).split(\",\")\n",
    "\n",
    "for i in range(len(l)-1,-1,-1):\n",
    "    j = len(l[i])-1\n",
    "    while j>-1:\n",
    "        if l[i][:j+1]==\"0\"*(j+1):\n",
    "            break\n",
    "        elif l[i][j]=='0':\n",
    "            s+=d.get(l[i][j])\n",
    "        else:\n",
    "            s+=(d.get(l[i][j])+a.get(j))\n",
    "        j-=1\n",
    "    s+=(f\"{b.get(i)}\")\n",
    "print(s)"
   ]
  },
  {
   "cell_type": "code",
   "execution_count": 124,
   "metadata": {},
   "outputs": [
    {
     "name": "stdout",
     "output_type": "stream",
     "text": [
      "j\n",
      "s\n",
      "k\n",
      "l\n",
      "f\n",
      "j\n",
      "l\n",
      "s\n",
      "j\n",
      "k\n",
      "10\n"
     ]
    }
   ],
   "source": [
    "a = list(\"kjsljflksj\")\n",
    "\n",
    "a.reverse()\n",
    "\n",
    "for i in a:\n",
    "    print(i)\n",
    "print(len(a))"
   ]
  },
  {
   "cell_type": "code",
   "execution_count": 210,
   "metadata": {},
   "outputs": [
    {
     "data": {
      "text/plain": [
       "{1: '一', 2: '二', 3: '三', 4: '四', 5: '五', 6: '六', 7: '七', 8: '八'}"
      ]
     },
     "execution_count": 210,
     "metadata": {},
     "output_type": "execute_result"
    }
   ],
   "source": [
    "dict(zip(range(1,9),\"一二三四五六七八九\"))"
   ]
  },
  {
   "cell_type": "code",
   "execution_count": 176,
   "metadata": {},
   "outputs": [
    {
     "data": {
      "text/plain": [
       "[1, 2, 3, 4, 5, 6, 7, 8, 9]"
      ]
     },
     "execution_count": 176,
     "metadata": {},
     "output_type": "execute_result"
    }
   ],
   "source": [
    "list(range(1,10))"
   ]
  },
  {
   "cell_type": "code",
   "execution_count": 229,
   "metadata": {},
   "outputs": [
    {
     "name": "stdout",
     "output_type": "stream",
     "text": [
      "8\n"
     ]
    }
   ],
   "source": [
    "# dict([(1,2),(2,3)])\n",
    "# dict(zip(range(2),range(2,4)))\n",
    "# dict(zip(range(3),\"abc\"))\n",
    "# dict(zip(range(3),list(\"abc\")))\n",
    "# dict(zip([2,3,4],range(3)))\n",
    "def fastpow(base,n):\n",
    "    ans=1\n",
    "    while n:\n",
    "        if n&1:\n",
    "            ans*=base\n",
    "        base*=base\n",
    "        n>>=1\n",
    "    return ans\n",
    "print(fastpow(2,3))"
   ]
  },
  {
   "cell_type": "code",
   "execution_count": 255,
   "metadata": {},
   "outputs": [
    {
     "name": "stdout",
     "output_type": "stream",
     "text": [
      "2 6\n",
      "2=2\n",
      "3=3\n",
      "4=4\n",
      "5=5\n",
      "6=6\n"
     ]
    }
   ],
   "source": [
    "a,b = map(int,input().split())\n",
    "li = []\n",
    "\n",
    "def f(l,j):\n",
    "    print(f\"{j}=\",end=\"\")\n",
    "    while 1:\n",
    "        for g in l:\n",
    "            if j%g==0 and (j not in l):\n",
    "                print(g,end=\" \")\n",
    "                j//=g\n",
    "                break\n",
    "        else:\n",
    "            print(j,end=\"\")\n",
    "            break\n",
    "    print()\n",
    "\n",
    "for i in range(2,b+1):\n",
    "    for k in range(2,int(i**0.5)):\n",
    "        if i%k==0:\n",
    "            break\n",
    "    else:\n",
    "        li.append(i)\n",
    "            \n",
    "for h in range(a,b+1):\n",
    "    f(li,h)"
   ]
  },
  {
   "cell_type": "code",
   "execution_count": 242,
   "metadata": {},
   "outputs": [
    {
     "data": {
      "text/plain": [
       "4.47213595499958"
      ]
     },
     "execution_count": 242,
     "metadata": {},
     "output_type": "execute_result"
    }
   ],
   "source": [
    "20.**0.5"
   ]
  },
  {
   "cell_type": "code",
   "execution_count": 243,
   "metadata": {},
   "outputs": [
    {
     "data": {
      "text/plain": [
       "4"
      ]
     },
     "execution_count": 243,
     "metadata": {},
     "output_type": "execute_result"
    }
   ],
   "source": [
    "int(_)"
   ]
  },
  {
   "cell_type": "code",
   "execution_count": 7,
   "metadata": {},
   "outputs": [
    {
     "data": {
      "text/plain": [
       "96"
      ]
     },
     "execution_count": 7,
     "metadata": {},
     "output_type": "execute_result"
    }
   ],
   "source": [
    "n = 1200000\n",
    "len(list(i for i in range(1,n+1) if n%i==0))"
   ]
  },
  {
   "cell_type": "code",
   "execution_count": 13,
   "metadata": {},
   "outputs": [
    {
     "name": "stdout",
     "output_type": "stream",
     "text": [
      "217\n"
     ]
    }
   ],
   "source": [
    "# 逆序对\n",
    "\n",
    "a=[87,39,35,1,99,10,54,1,46,24,74,62,49,13,2,80,24,58,8,14,83,23,97,85,3,2,86,10,71,15]\n",
    "# a=[3,2,2,1]\n",
    "l = len(a)\n",
    "num=0\n",
    "\n",
    "for i in range(l-1):\n",
    "    for j in range(i,l):\n",
    "        if a[i]>a[j]:\n",
    "            num+=1\n",
    "print(num)"
   ]
  },
  {
   "cell_type": "code",
   "execution_count": 42,
   "metadata": {},
   "outputs": [
    {
     "name": "stdout",
     "output_type": "stream",
     "text": [
      "3.546\n",
      "3.546\n"
     ]
    }
   ],
   "source": [
    "print(f\"{3.5456:.4}\")  #有效位\n",
    "print(round(3.5456,3))  #四舍五入"
   ]
  },
  {
   "cell_type": "code",
   "execution_count": 18,
   "metadata": {},
   "outputs": [
    {
     "name": "stdout",
     "output_type": "stream",
     "text": [
      "100\n",
      "12 13 14 15 16 17 18 19 23 24 25 26 27 28 29 34 35 36 37 38 39 45 46 47 48 49 56 57 58 59 67 68 69 78 79 89 "
     ]
    }
   ],
   "source": [
    "# 递增数\n",
    "\n",
    "n = int(input())\n",
    "\n",
    "for i in range(1,n+1):\n",
    "    if list(str(i))==sorted(str(i)) and str(i)!=str(i)[::-1]:\n",
    "        print(i, end=\" \")"
   ]
  },
  {
   "cell_type": "code",
   "execution_count": null,
   "metadata": {},
   "outputs": [],
   "source": [
    "# 结点\n",
    "class Node(object):\n",
    "    def __init__(self, item):\n",
    "        self.elem=item   #值\n",
    "        self.lchild=None #右孩子\n",
    "        self.rchild=None #左孩子\n",
    "\n",
    "class Tree(object):\n",
    "    def __init__(self):\n",
    "        self.root=None\n",
    "    \n",
    "    def add(self, item):\n",
    "        node=Node(item)\n",
    "        if self.root is None:\n",
    "            self.root=node\n",
    "            return\n",
    "        \n",
    "        queue=[self.root]\n",
    "        \n",
    "        while queue:\n",
    "            cur_node=queue.pop(0)\n",
    "            if cur_node.lchild is None:\n",
    "                cur_node.lchild=node\n",
    "                return\n",
    "            else:\n",
    "                queue.append(cur_node.lchild)\n",
    "            if cur_node.rchild is None:\n",
    "                cur_node.rchild=node\n",
    "            else:\n",
    "                queue.append(cur_node.rchild)\n",
    "\n",
    "        \"\"\"广度遍历\"\"\"\n",
    "        def breadth_travel(self):\n",
    "            if self.root is None:\n",
    "                return\n",
    "            \n",
    "            queue=[self.root]\n",
    "            while queue:\n",
    "                cur_node=queue.pop(0)\n",
    "                print(cur_node.elem)\n",
    "                if cur_node.lchild is not None:\n",
    "                    queue.append(cur_node.lchild)\n",
    "                if cur_node.rchild is not None:\n",
    "                    queue.append(cur_node.rchild)\n",
    "        \"\"\"先序遍历\"\"\"\n",
    "        def \n",
    "        \n",
    "        \"\"\"中序遍历\"\"\"\n",
    "        def\n",
    "        \n",
    "        \"\"\"后序遍历\"\"\"\n",
    "        def\n",
    "        \n",
    "tree=Tree()\n",
    "tree.add(1)\n",
    "tree.add(2)\n",
    "tree.add(3)\n",
    "tree.breadth_travel()\n",
    "\n"
   ]
  },
  {
   "cell_type": "code",
   "execution_count": 12,
   "metadata": {},
   "outputs": [
    {
     "name": "stdout",
     "output_type": "stream",
     "text": [
      "2021\n",
      "3181\n"
     ]
    }
   ],
   "source": [
    "# 卡片\n",
    "\n",
    "c = 0\n",
    "n = 1\n",
    "\n",
    "while c<2021:\n",
    "    c += str(n).count(\"1\")\n",
    "    if c>=2021:\n",
    "        print(c)\n",
    "        break\n",
    "    n+=1\n",
    "    \n",
    "print(n)"
   ]
  },
  {
   "cell_type": "code",
   "execution_count": 46,
   "metadata": {},
   "outputs": [
    {
     "name": "stdout",
     "output_type": "stream",
     "text": [
      "2021041820210418\n"
     ]
    },
    {
     "ename": "KeyboardInterrupt",
     "evalue": "",
     "output_type": "error",
     "traceback": [
      "\u001b[1;31m---------------------------------------------------------------------------\u001b[0m",
      "\u001b[1;31mKeyboardInterrupt\u001b[0m                         Traceback (most recent call last)",
      "\u001b[1;32m<ipython-input-46-962deead9b43>\u001b[0m in \u001b[0;36m<module>\u001b[1;34m\u001b[0m\n\u001b[0;32m     21\u001b[0m \u001b[1;33m\u001b[0m\u001b[0m\n\u001b[0;32m     22\u001b[0m \u001b[1;32mfor\u001b[0m \u001b[0mi\u001b[0m \u001b[1;32min\u001b[0m \u001b[0mrange\u001b[0m\u001b[1;33m(\u001b[0m\u001b[1;36m1\u001b[0m\u001b[1;33m,\u001b[0m\u001b[0mint\u001b[0m\u001b[1;33m(\u001b[0m\u001b[0mn\u001b[0m\u001b[1;33m**\u001b[0m\u001b[1;33m(\u001b[0m\u001b[1;36m1\u001b[0m\u001b[1;33m/\u001b[0m\u001b[1;36m3\u001b[0m\u001b[1;33m)\u001b[0m\u001b[1;33m)\u001b[0m\u001b[1;33m+\u001b[0m\u001b[1;36m1\u001b[0m\u001b[1;33m)\u001b[0m\u001b[1;33m:\u001b[0m\u001b[1;33m\u001b[0m\u001b[1;33m\u001b[0m\u001b[0m\n\u001b[1;32m---> 23\u001b[1;33m     \u001b[1;32mfor\u001b[0m \u001b[0mj\u001b[0m \u001b[1;32min\u001b[0m \u001b[0mrange\u001b[0m\u001b[1;33m(\u001b[0m\u001b[0mi\u001b[0m\u001b[1;33m,\u001b[0m\u001b[0mint\u001b[0m\u001b[1;33m(\u001b[0m\u001b[0mn\u001b[0m\u001b[1;33m**\u001b[0m\u001b[1;33m(\u001b[0m\u001b[1;36m1\u001b[0m\u001b[1;33m/\u001b[0m\u001b[1;36m2\u001b[0m\u001b[1;33m)\u001b[0m\u001b[1;33m)\u001b[0m\u001b[1;33m+\u001b[0m\u001b[1;36m1\u001b[0m\u001b[1;33m)\u001b[0m\u001b[1;33m:\u001b[0m\u001b[1;33m\u001b[0m\u001b[1;33m\u001b[0m\u001b[0m\n\u001b[0m\u001b[0;32m     24\u001b[0m         \u001b[1;32mif\u001b[0m \u001b[0mn\u001b[0m\u001b[1;33m%\u001b[0m\u001b[1;33m(\u001b[0m\u001b[0mi\u001b[0m\u001b[1;33m*\u001b[0m\u001b[0mj\u001b[0m\u001b[1;33m)\u001b[0m\u001b[1;33m==\u001b[0m\u001b[1;36m0\u001b[0m\u001b[1;33m:\u001b[0m\u001b[1;33m\u001b[0m\u001b[1;33m\u001b[0m\u001b[0m\n\u001b[0;32m     25\u001b[0m             \u001b[0mk\u001b[0m\u001b[1;33m=\u001b[0m\u001b[0mn\u001b[0m\u001b[1;33m//\u001b[0m\u001b[1;33m(\u001b[0m\u001b[0mi\u001b[0m\u001b[1;33m*\u001b[0m\u001b[0mj\u001b[0m\u001b[1;33m)\u001b[0m\u001b[1;33m\u001b[0m\u001b[1;33m\u001b[0m\u001b[0m\n",
      "\u001b[1;31mKeyboardInterrupt\u001b[0m: "
     ]
    }
   ],
   "source": [
    "# 摆箱子\n",
    "\"\"\"\n",
    "27\n",
    "\n",
    "1 1 27\n",
    "1 27 1\n",
    "27 1 1\n",
    "1 3 9\n",
    "1 9 3\n",
    "3 1 9\n",
    "3 9 1\n",
    "9 1 3\n",
    "9 3 1\n",
    "3 3 3\n",
    "\n",
    "10\n",
    "\"\"\"\n",
    "\n",
    "n = int(input())\n",
    "c = 0\n",
    "\n",
    "for i in range(1,int(n**(1/3))+1):\n",
    "    for j in range(i,int(n**(1/2))+1):\n",
    "        if n%(i*j)==0:\n",
    "            k=n//(i*j)\n",
    "#             print(i, j , k)\n",
    "            if i==j==k:\n",
    "                c+=1\n",
    "            elif i!=j and j!=k and k!=i:\n",
    "                c+=6\n",
    "            else:\n",
    "                c+=3\n",
    "print(c)"
   ]
  },
  {
   "cell_type": "code",
   "execution_count": 14,
   "metadata": {},
   "outputs": [
    {
     "data": {
      "text/plain": [
       "6"
      ]
     },
     "execution_count": 14,
     "metadata": {},
     "output_type": "execute_result"
    }
   ],
   "source": [
    "n"
   ]
  },
  {
   "cell_type": "code",
   "execution_count": 15,
   "metadata": {},
   "outputs": [
    {
     "data": {
      "text/plain": [
       "1"
      ]
     },
     "execution_count": 15,
     "metadata": {},
     "output_type": "execute_result"
    }
   ],
   "source": [
    "int(n**(1/3))"
   ]
  },
  {
   "cell_type": "code",
   "execution_count": 47,
   "metadata": {},
   "outputs": [
    {
     "name": "stdout",
     "output_type": "stream",
     "text": [
      "126433\n",
      "44955999\n"
     ]
    }
   ],
   "source": [
    "n=2021041820210418\n",
    "print(int(n**(1/3))+1)\n",
    "print(int(n**(1/2))+1)"
   ]
  },
  {
   "cell_type": "code",
   "execution_count": 48,
   "metadata": {},
   "outputs": [
    {
     "data": {
      "text/plain": [
       "1010520910105209"
      ]
     },
     "execution_count": 48,
     "metadata": {},
     "output_type": "execute_result"
    }
   ],
   "source": [
    "n//2"
   ]
  },
  {
   "cell_type": "code",
   "execution_count": 49,
   "metadata": {},
   "outputs": [
    {
     "data": {
      "text/plain": [
       "673680606736806"
      ]
     },
     "execution_count": 49,
     "metadata": {},
     "output_type": "execute_result"
    }
   ],
   "source": [
    "n//3"
   ]
  },
  {
   "cell_type": "code",
   "execution_count": 50,
   "metadata": {},
   "outputs": [
    {
     "data": {
      "text/plain": [
       "505260455052604"
      ]
     },
     "execution_count": 50,
     "metadata": {},
     "output_type": "execute_result"
    }
   ],
   "source": [
    "n//4"
   ]
  },
  {
   "cell_type": "code",
   "execution_count": null,
   "metadata": {},
   "outputs": [],
   "source": [
    "import xlwings as xw"
   ]
  },
  {
   "cell_type": "code",
   "execution_count": 3,
   "metadata": {},
   "outputs": [],
   "source": [
    "app = xw.App(visible=True, add_book=False) #visible 窗口可见性；add_book 是否新建工作簿\n",
    "# workbook = app.books.add() #add() books对象新建工作簿\n",
    "workbook = app.books. open(\"\")"
   ]
  },
  {
   "cell_type": "code",
   "execution_count": null,
   "metadata": {},
   "outputs": [],
   "source": [
    "worksheet = workbook.sheets['Sheet1'] #选择工作表\n",
    "worksheet.range('A1':'A10').value='hello xlwings'"
   ]
  },
  {
   "cell_type": "code",
   "execution_count": null,
   "metadata": {},
   "outputs": [],
   "source": [
    "workbook.save('第一个表.xlsx')\n",
    "workbook.close()\n",
    "app.quit()"
   ]
  },
  {
   "cell_type": "code",
   "execution_count": null,
   "metadata": {},
   "outputs": [],
   "source": [
    "help(xw)"
   ]
  },
  {
   "cell_type": "code",
   "execution_count": null,
   "metadata": {},
   "outputs": [],
   "source": []
  }
 ],
 "metadata": {
  "kernelspec": {
   "display_name": "Python 3",
   "language": "python",
   "name": "python3"
  },
  "language_info": {
   "codemirror_mode": {
    "name": "ipython",
    "version": 3
   },
   "file_extension": ".py",
   "mimetype": "text/x-python",
   "name": "python",
   "nbconvert_exporter": "python",
   "pygments_lexer": "ipython3",
   "version": "3.8.5"
  }
 },
 "nbformat": 4,
 "nbformat_minor": 4
}
